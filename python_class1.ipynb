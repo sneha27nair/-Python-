{
 "cells": [
  {
   "cell_type": "markdown",
   "id": "bac44219",
   "metadata": {},
   "source": [
    "# Python Programming \n",
    "\n",
    "- to complete a task\n",
    "- high - level ,general -purpose language\n",
    "- web development,Machine learning applications ,app building,GUI application, image processing ,scientific computing\n",
    "- free source\n",
    "- several package/module/libraries which help to simply our tasks\n",
    "- follows oops concepts\n",
    "- Guido van rossum - 1991\n",
    "- python 3"
   ]
  },
  {
   "cell_type": "code",
   "execution_count": 2,
   "id": "e55cfbb6",
   "metadata": {},
   "outputs": [],
   "source": [
    "# to execute a code - Shift+enter\n",
    "'''kjhkjh\n",
    "dssdfsdf\n",
    "fsddsfsdfsdfsdfsdfsdfsdsdf\n",
    "This is a multi line coomment'''\n"
   ]
  },
  {
   "cell_type": "code",
   "execution_count": 4,
   "id": "5b28ea33",
   "metadata": {},
   "outputs": [
    {
     "name": "stdout",
     "output_type": "stream",
     "text": [
      "Hello world!!\n"
     ]
    }
   ],
   "source": [
    "#script begin-ignored-serves as documentation\n",
    "print(\"Hello world!!\")\n",
    "#script ends"
   ]
  },
  {
   "cell_type": "markdown",
   "id": "fb4c763b",
   "metadata": {},
   "source": [
    "# Language Features\n",
    "\n",
    "1) Interpreted\n",
    " source code --> intermediate form (byte code)-->native language  \n",
    "2) platform independent \n",
    "3) Free and open source\n",
    "4) Highlevel language \n",
    "5) Simple - close to English language --> easy to learn\n",
    "6) Embeddable \n",
    "7) Robust \n",
    "8) Rich library support - pandas( dataframe(tables) manipulation), seaborn ,matplotlib\n"
   ]
  },
  {
   "cell_type": "code",
   "execution_count": 5,
   "id": "86a52be7",
   "metadata": {},
   "outputs": [
    {
     "data": {
      "text/plain": [
       "7"
      ]
     },
     "execution_count": 5,
     "metadata": {},
     "output_type": "execute_result"
    }
   ],
   "source": [
    "3+4"
   ]
  },
  {
   "cell_type": "code",
   "execution_count": 6,
   "id": "1e3f4237",
   "metadata": {},
   "outputs": [
    {
     "data": {
      "text/plain": [
       "4"
      ]
     },
     "execution_count": 6,
     "metadata": {},
     "output_type": "execute_result"
    }
   ],
   "source": [
    "5-1"
   ]
  },
  {
   "cell_type": "code",
   "execution_count": 7,
   "id": "38e45471",
   "metadata": {},
   "outputs": [
    {
     "data": {
      "text/plain": [
       "12"
      ]
     },
     "execution_count": 7,
     "metadata": {},
     "output_type": "execute_result"
    }
   ],
   "source": [
    "3*4"
   ]
  },
  {
   "cell_type": "code",
   "execution_count": 8,
   "id": "a61ef014",
   "metadata": {},
   "outputs": [
    {
     "data": {
      "text/plain": [
       "2.0"
      ]
     },
     "execution_count": 8,
     "metadata": {},
     "output_type": "execute_result"
    }
   ],
   "source": [
    "4/2"
   ]
  },
  {
   "cell_type": "code",
   "execution_count": 9,
   "id": "28d05c41",
   "metadata": {},
   "outputs": [
    {
     "data": {
      "text/plain": [
       "255"
      ]
     },
     "execution_count": 9,
     "metadata": {},
     "output_type": "execute_result"
    }
   ],
   "source": [
    "222+33"
   ]
  },
  {
   "cell_type": "markdown",
   "id": "f58c6077",
   "metadata": {},
   "source": [
    "# Variables - containers"
   ]
  },
  {
   "cell_type": "code",
   "execution_count": 10,
   "id": "e6d4b393",
   "metadata": {},
   "outputs": [
    {
     "name": "stdout",
     "output_type": "stream",
     "text": [
      "3\n"
     ]
    }
   ],
   "source": [
    "num = 3\n",
    "print(num)"
   ]
  },
  {
   "cell_type": "code",
   "execution_count": 11,
   "id": "3ee2e651",
   "metadata": {},
   "outputs": [
    {
     "name": "stdout",
     "output_type": "stream",
     "text": [
      "4.5\n"
     ]
    }
   ],
   "source": [
    "n1 = 4.5\n",
    "print(n1)"
   ]
  },
  {
   "cell_type": "code",
   "execution_count": 19,
   "id": "e6f17e40",
   "metadata": {},
   "outputs": [
    {
     "name": "stdout",
     "output_type": "stream",
     "text": [
      "helloworld\n"
     ]
    }
   ],
   "source": [
    "num = 'helloworld'\n",
    "print(num)"
   ]
  },
  {
   "cell_type": "code",
   "execution_count": 21,
   "id": "85eccf79",
   "metadata": {},
   "outputs": [
    {
     "data": {
      "text/plain": [
       "str"
      ]
     },
     "execution_count": 21,
     "metadata": {},
     "output_type": "execute_result"
    }
   ],
   "source": [
    "type(num)"
   ]
  },
  {
   "cell_type": "code",
   "execution_count": 22,
   "id": "d4e8fe84",
   "metadata": {},
   "outputs": [
    {
     "data": {
      "text/plain": [
       "float"
      ]
     },
     "execution_count": 22,
     "metadata": {},
     "output_type": "execute_result"
    }
   ],
   "source": [
    "type(n1)"
   ]
  },
  {
   "cell_type": "code",
   "execution_count": 23,
   "id": "7c112583",
   "metadata": {},
   "outputs": [
    {
     "name": "stdout",
     "output_type": "stream",
     "text": [
      "45\n"
     ]
    }
   ],
   "source": [
    "m = 45\n",
    "print(m)"
   ]
  },
  {
   "cell_type": "code",
   "execution_count": 24,
   "id": "495c24ef",
   "metadata": {},
   "outputs": [
    {
     "data": {
      "text/plain": [
       "int"
      ]
     },
     "execution_count": 24,
     "metadata": {},
     "output_type": "execute_result"
    }
   ],
   "source": [
    "type(m)"
   ]
  },
  {
   "cell_type": "code",
   "execution_count": 25,
   "id": "353a1553",
   "metadata": {},
   "outputs": [
    {
     "name": "stdout",
     "output_type": "stream",
     "text": [
      "True\n"
     ]
    }
   ],
   "source": [
    "a = True\n",
    "print(a)"
   ]
  },
  {
   "cell_type": "code",
   "execution_count": 26,
   "id": "d90758e7",
   "metadata": {},
   "outputs": [
    {
     "data": {
      "text/plain": [
       "bool"
      ]
     },
     "execution_count": 26,
     "metadata": {},
     "output_type": "execute_result"
    }
   ],
   "source": [
    "type(a)"
   ]
  },
  {
   "cell_type": "code",
   "execution_count": 27,
   "id": "c364e225",
   "metadata": {},
   "outputs": [
    {
     "name": "stdout",
     "output_type": "stream",
     "text": [
      "helloworldhi\n"
     ]
    }
   ],
   "source": [
    "a,b,c = \"hello\",\"world\",\"hi\"\n",
    "print(a+b+c)"
   ]
  },
  {
   "cell_type": "code",
   "execution_count": 29,
   "id": "4e05fea1",
   "metadata": {},
   "outputs": [
    {
     "name": "stdout",
     "output_type": "stream",
     "text": [
      "the value is 0\n"
     ]
    }
   ],
   "source": [
    "a = 1 if 20>30 else 0\n",
    "\n",
    "print(\"the value is\" , str(a))"
   ]
  },
  {
   "cell_type": "markdown",
   "id": "092d7855",
   "metadata": {},
   "source": [
    "# Input/Output"
   ]
  },
  {
   "cell_type": "markdown",
   "id": "82081218",
   "metadata": {},
   "source": [
    "input() - from user and convert it into a string\n"
   ]
  },
  {
   "cell_type": "code",
   "execution_count": 31,
   "id": "12c0aa0d",
   "metadata": {},
   "outputs": [
    {
     "name": "stdout",
     "output_type": "stream",
     "text": [
      "Enter your nameabc\n",
      "abc\n"
     ]
    }
   ],
   "source": [
    "w = input(\"Enter your name\")\n",
    "print(w)"
   ]
  },
  {
   "cell_type": "code",
   "execution_count": 32,
   "id": "31b0c12f",
   "metadata": {},
   "outputs": [
    {
     "data": {
      "text/plain": [
       "str"
      ]
     },
     "execution_count": 32,
     "metadata": {},
     "output_type": "execute_result"
    }
   ],
   "source": [
    "type(w)"
   ]
  },
  {
   "cell_type": "code",
   "execution_count": 35,
   "id": "f31f508d",
   "metadata": {},
   "outputs": [
    {
     "name": "stdout",
     "output_type": "stream",
     "text": [
      "Enter your age67899\n",
      "67899\n"
     ]
    }
   ],
   "source": [
    "w1 = int(input(\"Enter your age\"))\n",
    "print(w1)"
   ]
  },
  {
   "cell_type": "code",
   "execution_count": 36,
   "id": "4a5679c0",
   "metadata": {},
   "outputs": [
    {
     "data": {
      "text/plain": [
       "int"
      ]
     },
     "execution_count": 36,
     "metadata": {},
     "output_type": "execute_result"
    }
   ],
   "source": [
    "type(w1)"
   ]
  },
  {
   "cell_type": "code",
   "execution_count": 39,
   "id": "d0f07ac1",
   "metadata": {},
   "outputs": [
    {
     "name": "stdout",
     "output_type": "stream",
     "text": [
      "Enter your weight34\n",
      "34.0\n"
     ]
    }
   ],
   "source": [
    "w1 = float(input(\"Enter your weight\"))\n",
    "print(w1)"
   ]
  },
  {
   "cell_type": "code",
   "execution_count": 40,
   "id": "7320e0b1",
   "metadata": {},
   "outputs": [
    {
     "data": {
      "text/plain": [
       "float"
      ]
     },
     "execution_count": 40,
     "metadata": {},
     "output_type": "execute_result"
    }
   ],
   "source": [
    "type(w1)"
   ]
  },
  {
   "cell_type": "code",
   "execution_count": 44,
   "id": "908b5839",
   "metadata": {},
   "outputs": [
    {
     "name": "stdout",
     "output_type": "stream",
     "text": [
      "Enter your name?\n",
      "abc\n",
      "abc\n"
     ]
    }
   ],
   "source": [
    "w = input(\"Enter your name?\\n\")\n",
    "print(w)"
   ]
  },
  {
   "cell_type": "code",
   "execution_count": 47,
   "id": "4c0cb447",
   "metadata": {},
   "outputs": [
    {
     "name": "stdout",
     "output_type": "stream",
     "text": [
      "enter two values4 5\n",
      "no of boys 4\n",
      "no of girls 5\n"
     ]
    }
   ],
   "source": [
    "x,y = input(\"enter two values\").split()\n",
    "print(\"no of boys\",x)\n",
    "print(\"no of girls\",y)"
   ]
  },
  {
   "cell_type": "code",
   "execution_count": 48,
   "id": "0829559d",
   "metadata": {},
   "outputs": [
    {
     "name": "stdout",
     "output_type": "stream",
     "text": [
      "enter two values3 4 5\n",
      "no of boys 3\n",
      "no of girls 4\n",
      "total students 5\n"
     ]
    }
   ],
   "source": [
    "x,y,z = input(\"enter two values\").split()\n",
    "print(\"no of boys\",x)\n",
    "print(\"no of girls\",y)\n",
    "print(\"total students\",z)"
   ]
  },
  {
   "cell_type": "code",
   "execution_count": 53,
   "id": "7a1ba52a",
   "metadata": {},
   "outputs": [
    {
     "name": "stdout",
     "output_type": "stream",
     "text": [
      "Enter multiple value4 5 6 7 8 9 0\n",
      "list of students [4, 5, 6, 7, 8, 9, 0]\n"
     ]
    }
   ],
   "source": [
    "x = list(map(int,input(\"Enter multiple value\").split())) # multiple inputs at atime & type-casting using list()\n",
    "print(\"list of students\",x)"
   ]
  },
  {
   "cell_type": "code",
   "execution_count": 54,
   "id": "2c0d7cbb",
   "metadata": {},
   "outputs": [
    {
     "name": "stdout",
     "output_type": "stream",
     "text": [
      "hellp world\n"
     ]
    }
   ],
   "source": [
    "print(\"hellp world\")"
   ]
  },
  {
   "cell_type": "code",
   "execution_count": 61,
   "id": "e0d0c0c0",
   "metadata": {},
   "outputs": [
    {
     "name": "stdout",
     "output_type": "stream",
     "text": [
      "1\n",
      "2\n",
      "3\n",
      "4\n"
     ]
    }
   ],
   "source": [
    "a = [1,2,3,4] #list\n",
    "\n",
    "for i in range(4):\n",
    "    print(a[i] , end= \"\\n\")"
   ]
  },
  {
   "cell_type": "code",
   "execution_count": 63,
   "id": "35bf6e86",
   "metadata": {},
   "outputs": [
    {
     "name": "stdout",
     "output_type": "stream",
     "text": [
      "g@b@v\n"
     ]
    }
   ],
   "source": [
    "print(\"g\",\"b\",\"v\", sep =\"@\")"
   ]
  },
  {
   "cell_type": "markdown",
   "id": "9964e33c",
   "metadata": {},
   "source": [
    "# Output Formatting"
   ]
  },
  {
   "cell_type": "code",
   "execution_count": 71,
   "id": "48981d31",
   "metadata": {},
   "outputs": [
    {
     "name": "stdout",
     "output_type": "stream",
     "text": [
      "no of girls : 5, no of boys : 7.880000\n"
     ]
    }
   ],
   "source": [
    "#print integer and float value \n",
    "# % - string module operator\n",
    "\n",
    "print(\"no of girls : %d, no of boys : %f\"%(5,7.88))"
   ]
  },
  {
   "cell_type": "code",
   "execution_count": 68,
   "id": "937b1dc1",
   "metadata": {},
   "outputs": [
    {
     "name": "stdout",
     "output_type": "stream",
     "text": [
      "i love 1my country2\n"
     ]
    }
   ],
   "source": [
    "print(\"i love {}my country{}\".format('1',\"2\"))"
   ]
  },
  {
   "cell_type": "markdown",
   "id": "cfa101b1",
   "metadata": {},
   "source": [
    " # Operators"
   ]
  },
  {
   "cell_type": "markdown",
   "id": "684fefe8",
   "metadata": {},
   "source": [
    "values & variables\n",
    "\n",
    "# arthematics operators - +,-,*,/"
   ]
  },
  {
   "cell_type": "code",
   "execution_count": 69,
   "id": "2ef11586",
   "metadata": {},
   "outputs": [
    {
     "data": {
      "text/plain": [
       "2.0"
      ]
     },
     "execution_count": 69,
     "metadata": {},
     "output_type": "execute_result"
    }
   ],
   "source": [
    "4/2 #output is decimal"
   ]
  },
  {
   "cell_type": "code",
   "execution_count": 70,
   "id": "e07fe17c",
   "metadata": {},
   "outputs": [
    {
     "data": {
      "text/plain": [
       "2"
      ]
     },
     "execution_count": 70,
     "metadata": {},
     "output_type": "execute_result"
    }
   ],
   "source": [
    "4//2 #output is whole number "
   ]
  },
  {
   "cell_type": "code",
   "execution_count": 72,
   "id": "5869395e",
   "metadata": {},
   "outputs": [
    {
     "data": {
      "text/plain": [
       "0"
      ]
     },
     "execution_count": 72,
     "metadata": {},
     "output_type": "execute_result"
    }
   ],
   "source": [
    "4%2 #gives remainder"
   ]
  },
  {
   "cell_type": "code",
   "execution_count": 73,
   "id": "119ad842",
   "metadata": {},
   "outputs": [
    {
     "data": {
      "text/plain": [
       "16"
      ]
     },
     "execution_count": 73,
     "metadata": {},
     "output_type": "execute_result"
    }
   ],
   "source": [
    " 4**2"
   ]
  },
  {
   "cell_type": "markdown",
   "id": "ecfd2e63",
   "metadata": {},
   "source": [
    "# Comparison operators"
   ]
  },
  {
   "cell_type": "markdown",
   "id": "bf7b12a2",
   "metadata": {},
   "source": [
    "!= ,>=,<=,is,is not,x==y,>,<"
   ]
  },
  {
   "cell_type": "markdown",
   "id": "bd5a0079",
   "metadata": {},
   "source": [
    "= --> assignment operator\n",
    "== --> comparison operator"
   ]
  },
  {
   "cell_type": "code",
   "execution_count": 76,
   "id": "243febcb",
   "metadata": {},
   "outputs": [],
   "source": [
    "a = 12\n",
    "b = 12"
   ]
  },
  {
   "cell_type": "code",
   "execution_count": 77,
   "id": "aeee5db5",
   "metadata": {},
   "outputs": [
    {
     "name": "stdout",
     "output_type": "stream",
     "text": [
      "True\n"
     ]
    }
   ],
   "source": [
    "print( a == b )"
   ]
  },
  {
   "cell_type": "markdown",
   "id": "6a7cd31c",
   "metadata": {},
   "source": [
    "# Logical operators"
   ]
  },
  {
   "cell_type": "markdown",
   "id": "dc7045f1",
   "metadata": {},
   "source": [
    "and , or ,not"
   ]
  },
  {
   "cell_type": "code",
   "execution_count": 82,
   "id": "c29fef1d",
   "metadata": {},
   "outputs": [],
   "source": [
    "a = True\n",
    "b = False"
   ]
  },
  {
   "cell_type": "code",
   "execution_count": 81,
   "id": "5d600231",
   "metadata": {},
   "outputs": [
    {
     "name": "stdout",
     "output_type": "stream",
     "text": [
      "True\n"
     ]
    }
   ],
   "source": [
    "print( a and b)"
   ]
  },
  {
   "cell_type": "code",
   "execution_count": 83,
   "id": "aee753a6",
   "metadata": {},
   "outputs": [
    {
     "name": "stdout",
     "output_type": "stream",
     "text": [
      "True\n"
     ]
    }
   ],
   "source": [
    "print( a or b)"
   ]
  },
  {
   "cell_type": "code",
   "execution_count": 84,
   "id": "9db8c7cd",
   "metadata": {},
   "outputs": [
    {
     "name": "stdout",
     "output_type": "stream",
     "text": [
      "False\n"
     ]
    }
   ],
   "source": [
    "print( not a)"
   ]
  },
  {
   "cell_type": "markdown",
   "id": "244a64d9",
   "metadata": {},
   "source": [
    "# Assignment operators"
   ]
  },
  {
   "cell_type": "code",
   "execution_count": null,
   "id": "86bee5e8",
   "metadata": {},
   "outputs": [],
   "source": [
    " a +=b -- a = a+b"
   ]
  },
  {
   "cell_type": "code",
   "execution_count": null,
   "id": "f399ccf3",
   "metadata": {},
   "outputs": [],
   "source": []
  },
  {
   "cell_type": "code",
   "execution_count": null,
   "id": "5d933043",
   "metadata": {},
   "outputs": [],
   "source": []
  }
 ],
 "metadata": {
  "kernelspec": {
   "display_name": "Python 3 (ipykernel)",
   "language": "python",
   "name": "python3"
  },
  "language_info": {
   "codemirror_mode": {
    "name": "ipython",
    "version": 3
   },
   "file_extension": ".py",
   "mimetype": "text/x-python",
   "name": "python",
   "nbconvert_exporter": "python",
   "pygments_lexer": "ipython3",
   "version": "3.9.13"
  }
 },
 "nbformat": 4,
 "nbformat_minor": 5
}
