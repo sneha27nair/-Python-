{
 "cells": [
  {
   "cell_type": "markdown",
   "id": "545df7f3",
   "metadata": {},
   "source": [
    "# Object oriented programming - OOPS\n",
    "\n",
    "- we will be able to understand of class\n",
    "- blueprint of real life entity\n"
   ]
  },
  {
   "cell_type": "code",
   "execution_count": 1,
   "id": "7af20ac8",
   "metadata": {},
   "outputs": [],
   "source": [
    "a = 1"
   ]
  },
  {
   "cell_type": "code",
   "execution_count": 2,
   "id": "a02c401e",
   "metadata": {},
   "outputs": [
    {
     "name": "stdout",
     "output_type": "stream",
     "text": [
      "<class 'int'>\n"
     ]
    }
   ],
   "source": [
    "print(type(a))"
   ]
  },
  {
   "cell_type": "code",
   "execution_count": 3,
   "id": "f3fa07b2",
   "metadata": {},
   "outputs": [
    {
     "name": "stdout",
     "output_type": "stream",
     "text": [
      "<class 'str'>\n"
     ]
    }
   ],
   "source": [
    "print(type(\"pwskills\"))"
   ]
  },
  {
   "cell_type": "markdown",
   "id": "9e872d22",
   "metadata": {},
   "source": [
    "### class - is a real world entity \n",
    "\n",
    "- blueprint of real world item\n",
    "\n",
    "**WHy we use it?**\n",
    "\n",
    "- we develop a product. we try to multi things in a product.it is better to segregate the code in some modules. Thes modules will be able to interact . \n",
    "\n",
    "- we will able to create clean code , reusable , integreatable and simpler and easy to understand\n",
    "\n",
    "- there is class and object concept .Hence, we will use Oops concept. We will create in a structured & reuseable\n"
   ]
  },
  {
   "cell_type": "code",
   "execution_count": 4,
   "id": "4155cd80",
   "metadata": {},
   "outputs": [],
   "source": [
    "class test1:\n",
    "    pass\n",
    "#here we can create blank class with no error give pass"
   ]
  },
  {
   "cell_type": "code",
   "execution_count": 5,
   "id": "c25343a8",
   "metadata": {},
   "outputs": [],
   "source": [
    "a = test1()"
   ]
  },
  {
   "cell_type": "markdown",
   "id": "9f531305",
   "metadata": {},
   "source": [
    "## a is called a object . \n",
    "- a is a part of class test1. talking about a specific thing\n",
    "- instance of class test1. variable of class test1.object of class test1\n",
    "- once object is craeted, we can invoke properties for the object"
   ]
  },
  {
   "cell_type": "code",
   "execution_count": 6,
   "id": "62153ce0",
   "metadata": {},
   "outputs": [
    {
     "name": "stdout",
     "output_type": "stream",
     "text": [
      "<class '__main__.test1'>\n"
     ]
    }
   ],
   "source": [
    "print(type(a))"
   ]
  },
  {
   "cell_type": "code",
   "execution_count": 7,
   "id": "dea4a68b",
   "metadata": {},
   "outputs": [],
   "source": [
    "class sneha:\n",
    "    def welcome_user(): #method we are defining\n",
    "        print(\"welcome to the session\")"
   ]
  },
  {
   "cell_type": "markdown",
   "id": "aa7959ed",
   "metadata": {},
   "source": [
    "**we can include 1/100 methods inside one class**"
   ]
  },
  {
   "cell_type": "code",
   "execution_count": 8,
   "id": "56570da5",
   "metadata": {},
   "outputs": [],
   "source": [
    "ro = sneha()"
   ]
  },
  {
   "cell_type": "code",
   "execution_count": 9,
   "id": "d173dad1",
   "metadata": {},
   "outputs": [
    {
     "ename": "TypeError",
     "evalue": "welcome_user() takes 0 positional arguments but 1 was given",
     "output_type": "error",
     "traceback": [
      "\u001b[1;31m---------------------------------------------------------------------------\u001b[0m",
      "\u001b[1;31mTypeError\u001b[0m                                 Traceback (most recent call last)",
      "\u001b[1;32m~\\AppData\\Local\\Temp\\ipykernel_11140\\3595175098.py\u001b[0m in \u001b[0;36m<module>\u001b[1;34m\u001b[0m\n\u001b[1;32m----> 1\u001b[1;33m \u001b[0mro\u001b[0m\u001b[1;33m.\u001b[0m\u001b[0mwelcome_user\u001b[0m\u001b[1;33m(\u001b[0m\u001b[1;33m)\u001b[0m\u001b[1;33m\u001b[0m\u001b[1;33m\u001b[0m\u001b[0m\n\u001b[0m",
      "\u001b[1;31mTypeError\u001b[0m: welcome_user() takes 0 positional arguments but 1 was given"
     ]
    }
   ],
   "source": [
    "ro.welcome_user()"
   ]
  },
  {
   "cell_type": "code",
   "execution_count": 10,
   "id": "b2a5a8de",
   "metadata": {},
   "outputs": [],
   "source": [
    "class sneha:\n",
    "    def welcome_user(self): #method has to be defined to -self-as giev a pointer-to understand that this moethod belongs to me \n",
    "        print(\"welcome to the session\")"
   ]
  },
  {
   "cell_type": "code",
   "execution_count": 11,
   "id": "f5bb9069",
   "metadata": {},
   "outputs": [],
   "source": [
    "ro = sneha()"
   ]
  },
  {
   "cell_type": "code",
   "execution_count": 12,
   "id": "fa099922",
   "metadata": {},
   "outputs": [
    {
     "name": "stdout",
     "output_type": "stream",
     "text": [
      "welcome to the session\n"
     ]
    }
   ],
   "source": [
    "ro.welcome_user()"
   ]
  },
  {
   "cell_type": "code",
   "execution_count": 13,
   "id": "075b93ee",
   "metadata": {},
   "outputs": [],
   "source": [
    "r1 = sneha()"
   ]
  },
  {
   "cell_type": "code",
   "execution_count": 14,
   "id": "223647d1",
   "metadata": {},
   "outputs": [
    {
     "name": "stdout",
     "output_type": "stream",
     "text": [
      "welcome to the session\n"
     ]
    }
   ],
   "source": [
    "r1.welcome_user()"
   ]
  },
  {
   "cell_type": "markdown",
   "id": "9858096b",
   "metadata": {},
   "source": [
    "- this means that both r1 and ro variable is able to access the properties of class sneha\n",
    "- able to access function of class outside of the class by craeting various variables"
   ]
  },
  {
   "cell_type": "markdown",
   "id": "4ac0db19",
   "metadata": {},
   "source": [
    "# if we pass data then lets see what happen\n"
   ]
  },
  {
   "cell_type": "code",
   "execution_count": 15,
   "id": "3cd18577",
   "metadata": {},
   "outputs": [],
   "source": [
    "a = 1"
   ]
  },
  {
   "cell_type": "code",
   "execution_count": 16,
   "id": "14b222b1",
   "metadata": {},
   "outputs": [],
   "source": [
    "b = 2"
   ]
  },
  {
   "cell_type": "code",
   "execution_count": 17,
   "id": "9d58f17a",
   "metadata": {},
   "outputs": [
    {
     "data": {
      "text/plain": [
       "1"
      ]
     },
     "execution_count": 17,
     "metadata": {},
     "output_type": "execute_result"
    }
   ],
   "source": [
    "a"
   ]
  },
  {
   "cell_type": "code",
   "execution_count": 18,
   "id": "66707cda",
   "metadata": {},
   "outputs": [
    {
     "data": {
      "text/plain": [
       "2"
      ]
     },
     "execution_count": 18,
     "metadata": {},
     "output_type": "execute_result"
    }
   ],
   "source": [
    "b"
   ]
  },
  {
   "cell_type": "markdown",
   "id": "174a18bf",
   "metadata": {},
   "source": [
    "# Constructor - help the class to take the data\n",
    "\n",
    "- will always take data while craeting an object and then pass it class. now class will understand the data being passed\n",
    "- init is called a constructor\n",
    "- main task - is to assign vlaues to the data menbers of the class when an object is being created\n",
    "- in python, __init__(),is always called when an object is created\n",
    "\n",
    "syntax - \n",
    "\n",
    "def __init__(self):\n",
    "    #body of constructor"
   ]
  },
  {
   "cell_type": "code",
   "execution_count": 24,
   "id": "f88cc756",
   "metadata": {},
   "outputs": [],
   "source": [
    "#default constructor\n",
    "\n",
    "def __init__(self):\n",
    "    self.student = \"valuegivenhere\" #its is variable whihc is pointed to class\n",
    "    \n",
    "    "
   ]
  },
  {
   "cell_type": "code",
   "execution_count": 23,
   "id": "7751e013",
   "metadata": {},
   "outputs": [],
   "source": [
    "class sneha1:\n",
    "    def __init__(self,phone_numebr,email_id,student_id):#it means it belong to my class--parametrized constructor\n",
    "        self.phone_numebr = phone_numebr\n",
    "        self.email_id = email_id\n",
    "        self.student_id = student_id\n",
    "        \n",
    "    def return_student_detail(self): #method for data members\n",
    "        return self.phone_numebr,self.email_id,self.student_id"
   ]
  },
  {
   "cell_type": "markdown",
   "id": "8c8abaf1",
   "metadata": {},
   "source": [
    "-  it will take a data\n",
    "-  it is going to return the values "
   ]
  },
  {
   "cell_type": "code",
   "execution_count": 20,
   "id": "03e0db74",
   "metadata": {},
   "outputs": [
    {
     "ename": "TypeError",
     "evalue": "__init__() missing 3 required positional arguments: 'phone_numebr', 'email_id', and 'student_id'",
     "output_type": "error",
     "traceback": [
      "\u001b[1;31m---------------------------------------------------------------------------\u001b[0m",
      "\u001b[1;31mTypeError\u001b[0m                                 Traceback (most recent call last)",
      "\u001b[1;32m~\\AppData\\Local\\Temp\\ipykernel_11140\\359102555.py\u001b[0m in \u001b[0;36m<module>\u001b[1;34m\u001b[0m\n\u001b[1;32m----> 1\u001b[1;33m \u001b[0mvar1\u001b[0m \u001b[1;33m=\u001b[0m \u001b[0msneha1\u001b[0m\u001b[1;33m(\u001b[0m\u001b[1;33m)\u001b[0m\u001b[1;33m\u001b[0m\u001b[1;33m\u001b[0m\u001b[0m\n\u001b[0m",
      "\u001b[1;31mTypeError\u001b[0m: __init__() missing 3 required positional arguments: 'phone_numebr', 'email_id', and 'student_id'"
     ]
    }
   ],
   "source": [
    "var1 = sneha1()"
   ]
  },
  {
   "cell_type": "markdown",
   "id": "0a503714",
   "metadata": {},
   "source": [
    "- it showing error because we have promised the class tat while calling class we are going to share 3 input values that is phone number,email id and student id but we have not given it.Hence, the error.\n"
   ]
  },
  {
   "cell_type": "code",
   "execution_count": 22,
   "id": "494c2da3",
   "metadata": {},
   "outputs": [],
   "source": [
    "var1 = sneha1(123456789,\"sneha1@gmail.com\",345)"
   ]
  },
  {
   "cell_type": "markdown",
   "id": "85e2f994",
   "metadata": {},
   "source": [
    "123456789 --> def __init__(self,phone_numebr --> self.phone_numebr = phone_numebr -->class sneha1\n",
    "\n",
    "Here self.phone_numebr ,variable has got the value which is acting as a pointer and tell class that now i have got the value\n",
    "\n",
    "after that we need a mothod for a class inorder to access the variables"
   ]
  },
  {
   "cell_type": "code",
   "execution_count": 28,
   "id": "1f4bc5e2",
   "metadata": {},
   "outputs": [
    {
     "data": {
      "text/plain": [
       "123456789"
      ]
     },
     "execution_count": 28,
     "metadata": {},
     "output_type": "execute_result"
    }
   ],
   "source": [
    "var1.phone_numebr #example of accessing variable outside the class with the help of object,class or variables"
   ]
  },
  {
   "cell_type": "code",
   "execution_count": 26,
   "id": "8afb54df",
   "metadata": {},
   "outputs": [
    {
     "data": {
      "text/plain": [
       "'sneha1@gmail.com'"
      ]
     },
     "execution_count": 26,
     "metadata": {},
     "output_type": "execute_result"
    }
   ],
   "source": [
    "var1.email_id"
   ]
  },
  {
   "cell_type": "code",
   "execution_count": 27,
   "id": "b6e5e1e2",
   "metadata": {},
   "outputs": [
    {
     "data": {
      "text/plain": [
       "345"
      ]
     },
     "execution_count": 27,
     "metadata": {},
     "output_type": "execute_result"
    }
   ],
   "source": [
    "var1.student_id"
   ]
  },
  {
   "cell_type": "code",
   "execution_count": 29,
   "id": "09634b2c",
   "metadata": {},
   "outputs": [
    {
     "data": {
      "text/plain": [
       "<bound method sneha1.return_student_detail of <__main__.sneha1 object at 0x00000244DBF83E20>>"
      ]
     },
     "execution_count": 29,
     "metadata": {},
     "output_type": "execute_result"
    }
   ],
   "source": [
    "var1.return_student_detail"
   ]
  },
  {
   "cell_type": "code",
   "execution_count": 30,
   "id": "11b8c5ff",
   "metadata": {},
   "outputs": [
    {
     "data": {
      "text/plain": [
       "(123456789, 'sneha1@gmail.com', 345)"
      ]
     },
     "execution_count": 30,
     "metadata": {},
     "output_type": "execute_result"
    }
   ],
   "source": [
    "var1.return_student_detail()"
   ]
  },
  {
   "cell_type": "code",
   "execution_count": 31,
   "id": "244ba16a",
   "metadata": {},
   "outputs": [],
   "source": [
    "v2 = sneha1(987654321,\"emailid@gmail.com\",102)"
   ]
  },
  {
   "cell_type": "code",
   "execution_count": 33,
   "id": "3ebc91fe",
   "metadata": {},
   "outputs": [
    {
     "data": {
      "text/plain": [
       "'emailid@gmail.com'"
      ]
     },
     "execution_count": 33,
     "metadata": {},
     "output_type": "execute_result"
    }
   ],
   "source": [
    "v2.email_id"
   ]
  },
  {
   "cell_type": "code",
   "execution_count": 35,
   "id": "01766638",
   "metadata": {},
   "outputs": [
    {
     "data": {
      "text/plain": [
       "(987654321, 'emailid@gmail.com', 102)"
      ]
     },
     "execution_count": 35,
     "metadata": {},
     "output_type": "execute_result"
    }
   ],
   "source": [
    "v2.return_student_detail()"
   ]
  },
  {
   "cell_type": "code",
   "execution_count": 36,
   "id": "3fc24d6f",
   "metadata": {},
   "outputs": [],
   "source": [
    "class sneha2:\n",
    "    def __init__(s1,phone_numebr,email_id,student_id):#it means it belong to my class--parametrized constructor\n",
    "        s1.phone_numebr = phone_numebr\n",
    "        s1.email_id = email_id\n",
    "        s1.student_id = student_id\n",
    "        \n",
    "    def return_student_detail(s1): #method for data members\n",
    "        return s1.phone_numebr,s1.email_id,s1.student_id"
   ]
  },
  {
   "cell_type": "markdown",
   "id": "6d731fc9",
   "metadata": {},
   "source": [
    "- s1 - acts as a reference to the class so that it can tell all the things being inside the class belongs to you\n",
    "- hence, self is not keyword but a reference . So, we can use any name on behalf of self\n",
    "- self is a convention that is used as a coding practice"
   ]
  },
  {
   "cell_type": "code",
   "execution_count": 38,
   "id": "ab42e3e3",
   "metadata": {},
   "outputs": [],
   "source": [
    "mohan = sneha2(23456,\"rgtg@gmail.com\",898)"
   ]
  },
  {
   "cell_type": "code",
   "execution_count": 39,
   "id": "2e3989a3",
   "metadata": {},
   "outputs": [
    {
     "data": {
      "text/plain": [
       "'rgtg@gmail.com'"
      ]
     },
     "execution_count": 39,
     "metadata": {},
     "output_type": "execute_result"
    }
   ],
   "source": [
    "mohan.email_id"
   ]
  },
  {
   "cell_type": "code",
   "execution_count": 47,
   "id": "3bb161a3",
   "metadata": {},
   "outputs": [],
   "source": [
    "class sneha3:\n",
    "    def __init__(s1,phone_numebr,email_id,student_id):#it means it belong to my class--parametrized constructor\n",
    "        s1.phone_numebr1 = phone_numebr\n",
    "        s1.email_id = email_id\n",
    "        s1.student_id = student_id\n",
    "        \n",
    "    def return_student_detail(s1): #method for data members\n",
    "        return s1.phone_numebr1,s1.email_id,s1.student_id"
   ]
  },
  {
   "cell_type": "code",
   "execution_count": 48,
   "id": "3284bc03",
   "metadata": {},
   "outputs": [],
   "source": [
    "c1 = sneha3(12344,\"dfkjds@gmail.com\",98908)"
   ]
  },
  {
   "cell_type": "code",
   "execution_count": 45,
   "id": "2a8fd1da",
   "metadata": {},
   "outputs": [
    {
     "ename": "AttributeError",
     "evalue": "'sneha3' object has no attribute 'phone_numebr'",
     "output_type": "error",
     "traceback": [
      "\u001b[1;31m---------------------------------------------------------------------------\u001b[0m",
      "\u001b[1;31mAttributeError\u001b[0m                            Traceback (most recent call last)",
      "\u001b[1;32m~\\AppData\\Local\\Temp\\ipykernel_11140\\1590406086.py\u001b[0m in \u001b[0;36m<module>\u001b[1;34m\u001b[0m\n\u001b[1;32m----> 1\u001b[1;33m \u001b[0mc1\u001b[0m\u001b[1;33m.\u001b[0m\u001b[0mphone_numebr\u001b[0m\u001b[1;33m\u001b[0m\u001b[1;33m\u001b[0m\u001b[0m\n\u001b[0m",
      "\u001b[1;31mAttributeError\u001b[0m: 'sneha3' object has no attribute 'phone_numebr'"
     ]
    }
   ],
   "source": [
    "c1.phone_numebr"
   ]
  },
  {
   "cell_type": "markdown",
   "id": "e381efd5",
   "metadata": {},
   "source": [
    "- Hence, class is able to understand s1.phone_numebr1 wchih is class variable. variable which is associated with self/reference_variable\n",
    "- c1.phone_numebr1 is try to call s1.phone_numebr1\n",
    "- on left hand side of class,s1.email_id,is acting as reference to class which take the value by making object"
   ]
  },
  {
   "cell_type": "code",
   "execution_count": 49,
   "id": "37f90293",
   "metadata": {},
   "outputs": [
    {
     "data": {
      "text/plain": [
       "(12344, 'dfkjds@gmail.com', 98908)"
      ]
     },
     "execution_count": 49,
     "metadata": {},
     "output_type": "execute_result"
    }
   ],
   "source": [
    "c1.return_student_detail()"
   ]
  },
  {
   "cell_type": "markdown",
   "id": "35c7eed1",
   "metadata": {},
   "source": [
    "- class increase modularity, re-useability,modularity\n",
    "- class keep the code structured\n",
    "- we can create as many obejcts/variables as possible\n",
    "\n",
    "\n",
    "\n",
    "\n",
    "\n",
    "- hence, we always use oops concept "
   ]
  },
  {
   "cell_type": "code",
   "execution_count": null,
   "id": "0edd997e",
   "metadata": {},
   "outputs": [],
   "source": []
  },
  {
   "cell_type": "code",
   "execution_count": null,
   "id": "ac6c0e10",
   "metadata": {},
   "outputs": [],
   "source": []
  }
 ],
 "metadata": {
  "kernelspec": {
   "display_name": "Python 3 (ipykernel)",
   "language": "python",
   "name": "python3"
  },
  "language_info": {
   "codemirror_mode": {
    "name": "ipython",
    "version": 3
   },
   "file_extension": ".py",
   "mimetype": "text/x-python",
   "name": "python",
   "nbconvert_exporter": "python",
   "pygments_lexer": "ipython3",
   "version": "3.9.13"
  }
 },
 "nbformat": 4,
 "nbformat_minor": 5
}
