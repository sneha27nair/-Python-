{
 "cells": [
  {
   "cell_type": "markdown",
   "id": "1e155ff2",
   "metadata": {},
   "source": [
    "# Data types"
   ]
  },
  {
   "cell_type": "markdown",
   "id": "ac7dfb99",
   "metadata": {},
   "source": [
    "**String** - a sequence of characters that can be a combination of letters, numbers and special characters\n",
    "-declare them in single/double quotes (''/\"\").it helps to define the string and not a part of string\n",
    "\n",
    "Indexing or slicing- for accessing string"
   ]
  },
  {
   "cell_type": "code",
   "execution_count": 1,
   "id": "8f393947",
   "metadata": {},
   "outputs": [
    {
     "name": "stdout",
     "output_type": "stream",
     "text": [
      "this is a string\n"
     ]
    }
   ],
   "source": [
    "a = 'this is a string'\n",
    "print(a)"
   ]
  },
  {
   "cell_type": "code",
   "execution_count": 2,
   "id": "0f4d201a",
   "metadata": {},
   "outputs": [
    {
     "name": "stdout",
     "output_type": "stream",
     "text": [
      "this is a string\n"
     ]
    }
   ],
   "source": [
    "a = \"this is a string\"\n",
    "print(a)"
   ]
  },
  {
   "cell_type": "markdown",
   "id": "3d640e9d",
   "metadata": {},
   "source": [
    "**Accessing characters in python string**\n",
    "\n",
    "HELLOWORLD\n",
    "0123456789\n",
    "-9-8-7-6-5-4-3-2-1\n",
    "\n",
    "10 --THROW AN ERROR --Index Error "
   ]
  },
  {
   "cell_type": "code",
   "execution_count": 3,
   "id": "6cdbd86d",
   "metadata": {},
   "outputs": [
    {
     "name": "stdout",
     "output_type": "stream",
     "text": [
      "Sneha\n"
     ]
    }
   ],
   "source": [
    "s1 = \"Sneha\"\n",
    "print(s1)"
   ]
  },
  {
   "cell_type": "code",
   "execution_count": 4,
   "id": "2f2e98dd",
   "metadata": {},
   "outputs": [
    {
     "name": "stdout",
     "output_type": "stream",
     "text": [
      "Adverk\n"
     ]
    }
   ],
   "source": [
    "s2 = \"Adverk\" \n",
    "#     012345\n",
    "print(s2)"
   ]
  },
  {
   "cell_type": "code",
   "execution_count": 5,
   "id": "8d81b88e",
   "metadata": {},
   "outputs": [
    {
     "name": "stdout",
     "output_type": "stream",
     "text": [
      "d\n"
     ]
    }
   ],
   "source": [
    "print(s2[1])"
   ]
  },
  {
   "cell_type": "code",
   "execution_count": 6,
   "id": "f1a7b4f9",
   "metadata": {},
   "outputs": [
    {
     "name": "stdout",
     "output_type": "stream",
     "text": [
      "k\n"
     ]
    }
   ],
   "source": [
    "print(s2[-1])"
   ]
  },
  {
   "cell_type": "code",
   "execution_count": null,
   "id": "185e85d1",
   "metadata": {},
   "outputs": [],
   "source": [
    "#Question --"
   ]
  },
  {
   "cell_type": "code",
   "execution_count": 7,
   "id": "b9b79067",
   "metadata": {},
   "outputs": [
    {
     "name": "stdout",
     "output_type": "stream",
     "text": [
      "sagarashetty\n"
     ]
    }
   ],
   "source": [
    "s1=\"sagarashetty\"\n",
    "print(s1)"
   ]
  },
  {
   "cell_type": "code",
   "execution_count": 8,
   "id": "31807b8d",
   "metadata": {},
   "outputs": [
    {
     "name": "stdout",
     "output_type": "stream",
     "text": [
      "r\n"
     ]
    }
   ],
   "source": [
    "\n",
    "print(s1[4])"
   ]
  },
  {
   "cell_type": "markdown",
   "id": "62994e75",
   "metadata": {},
   "source": [
    "# Reversing a python String"
   ]
  },
  {
   "cell_type": "code",
   "execution_count": 9,
   "id": "29f55939",
   "metadata": {},
   "outputs": [
    {
     "name": "stdout",
     "output_type": "stream",
     "text": [
      "dlrowolleh\n"
     ]
    }
   ],
   "source": [
    "g = \"helloworld\"\n",
    "print(g[::-1])"
   ]
  },
  {
   "cell_type": "code",
   "execution_count": 10,
   "id": "632e4fe5",
   "metadata": {},
   "outputs": [
    {
     "name": "stdout",
     "output_type": "stream",
     "text": [
      "dlrowolleh\n"
     ]
    }
   ],
   "source": [
    "g = \"helloworld\" #reversed\n",
    "g = \"\".join(reversed(g))\n",
    "print(g)"
   ]
  },
  {
   "cell_type": "code",
   "execution_count": 16,
   "id": "452f48d6",
   "metadata": {},
   "outputs": [
    {
     "ename": "NameError",
     "evalue": "name 'c' is not defined",
     "output_type": "error",
     "traceback": [
      "\u001b[1;31m---------------------------------------------------------------------------\u001b[0m",
      "\u001b[1;31mNameError\u001b[0m                                 Traceback (most recent call last)",
      "\u001b[1;32m~\\AppData\\Local\\Temp\\ipykernel_13916\\3737409248.py\u001b[0m in \u001b[0;36m<module>\u001b[1;34m\u001b[0m\n\u001b[0;32m      1\u001b[0m \u001b[0mj\u001b[0m \u001b[1;33m=\u001b[0m \u001b[1;34m\"helloworld\"\u001b[0m\u001b[1;33m\u001b[0m\u001b[1;33m\u001b[0m\u001b[0m\n\u001b[1;32m----> 2\u001b[1;33m \u001b[0mprint\u001b[0m\u001b[1;33m(\u001b[0m\u001b[0mc\u001b[0m\u001b[1;33m[\u001b[0m\u001b[1;33m:\u001b[0m\u001b[1;33m:\u001b[0m\u001b[1;33m-\u001b[0m\u001b[1;36m1\u001b[0m\u001b[1;33m]\u001b[0m\u001b[1;33m)\u001b[0m\u001b[1;33m\u001b[0m\u001b[1;33m\u001b[0m\u001b[0m\n\u001b[0m",
      "\u001b[1;31mNameError\u001b[0m: name 'c' is not defined"
     ]
    }
   ],
   "source": [
    "j = \"helloworld\"\n",
    "print(c[::-1])"
   ]
  },
  {
   "cell_type": "markdown",
   "id": "240485b9",
   "metadata": {},
   "source": [
    "# String Slicing\n",
    "\n",
    "-slicing operator (colon) :"
   ]
  },
  {
   "cell_type": "code",
   "execution_count": 17,
   "id": "4fc3e90e",
   "metadata": {},
   "outputs": [
    {
     "name": "stdout",
     "output_type": "stream",
     "text": [
      "helloworld\n"
     ]
    }
   ],
   "source": [
    "g = \"helloworld\"\n",
    "print(g)"
   ]
  },
  {
   "cell_type": "code",
   "execution_count": 19,
   "id": "61ea565e",
   "metadata": {},
   "outputs": [
    {
     "name": "stdout",
     "output_type": "stream",
     "text": [
      "loworl\n"
     ]
    }
   ],
   "source": [
    "print(g[3:9]) #3 - inclusive & 9 -exclusive"
   ]
  },
  {
   "cell_type": "code",
   "execution_count": 20,
   "id": "8da360ad",
   "metadata": {},
   "outputs": [
    {
     "name": "stdout",
     "output_type": "stream",
     "text": [
      "rk tec\n"
     ]
    }
   ],
   "source": [
    "f = \"Adverk technologies\"\n",
    "print(f[4:10])"
   ]
  },
  {
   "cell_type": "markdown",
   "id": "6809a97e",
   "metadata": {},
   "source": [
    "# Deleting/Updating from a string\n",
    "\n",
    "- updation or deletion from the string is not allowed\n",
    "- string are immutable \n",
    "- we can reassign new string to the same name\n",
    "\n",
    "There is del function -we can use it on string"
   ]
  },
  {
   "cell_type": "code",
   "execution_count": 21,
   "id": "a1b35646",
   "metadata": {},
   "outputs": [],
   "source": [
    "f = \"Adverk technologies\""
   ]
  },
  {
   "cell_type": "code",
   "execution_count": 22,
   "id": "e472d05b",
   "metadata": {},
   "outputs": [
    {
     "name": "stdout",
     "output_type": "stream",
     "text": [
      "Adverk technologies\n"
     ]
    }
   ],
   "source": [
    "print(f)"
   ]
  },
  {
   "cell_type": "code",
   "execution_count": 23,
   "id": "b021d789",
   "metadata": {},
   "outputs": [],
   "source": [
    "del f"
   ]
  },
  {
   "cell_type": "code",
   "execution_count": 24,
   "id": "a95657cb",
   "metadata": {},
   "outputs": [
    {
     "ename": "NameError",
     "evalue": "name 'f' is not defined",
     "output_type": "error",
     "traceback": [
      "\u001b[1;31m---------------------------------------------------------------------------\u001b[0m",
      "\u001b[1;31mNameError\u001b[0m                                 Traceback (most recent call last)",
      "\u001b[1;32m~\\AppData\\Local\\Temp\\ipykernel_13916\\3169080460.py\u001b[0m in \u001b[0;36m<module>\u001b[1;34m\u001b[0m\n\u001b[1;32m----> 1\u001b[1;33m \u001b[0mprint\u001b[0m\u001b[1;33m(\u001b[0m\u001b[0mf\u001b[0m\u001b[1;33m)\u001b[0m\u001b[1;33m\u001b[0m\u001b[1;33m\u001b[0m\u001b[0m\n\u001b[0m",
      "\u001b[1;31mNameError\u001b[0m: name 'f' is not defined"
     ]
    }
   ],
   "source": [
    "print(f)"
   ]
  },
  {
   "cell_type": "code",
   "execution_count": 25,
   "id": "6a60e7c8",
   "metadata": {},
   "outputs": [
    {
     "name": "stdout",
     "output_type": "stream",
     "text": [
      "Hello everyone\n"
     ]
    }
   ],
   "source": [
    "s1 = \"Hello everyone\"\n",
    "print(s1)"
   ]
  },
  {
   "cell_type": "code",
   "execution_count": 27,
   "id": "a983d0a1",
   "metadata": {},
   "outputs": [
    {
     "name": "stdout",
     "output_type": "stream",
     "text": [
      "Heplo everyone\n"
     ]
    }
   ],
   "source": [
    "list1 = list(s1)\n",
    "list1[2] = 'p'\n",
    "s2 = ''.join(list1)\n",
    "print(s2)\n"
   ]
  },
  {
   "cell_type": "code",
   "execution_count": 28,
   "id": "87a1fce4",
   "metadata": {},
   "outputs": [
    {
     "name": "stdout",
     "output_type": "stream",
     "text": [
      "Heplo everyone\n"
     ]
    }
   ],
   "source": [
    "s3 = s1[0:2]+\"p\"+s1[3:]\n",
    "print(s3)"
   ]
  },
  {
   "cell_type": "code",
   "execution_count": 29,
   "id": "4fad4d2e",
   "metadata": {},
   "outputs": [],
   "source": [
    "#update the entire string"
   ]
  },
  {
   "cell_type": "code",
   "execution_count": 30,
   "id": "68ac108c",
   "metadata": {},
   "outputs": [
    {
     "name": "stdout",
     "output_type": "stream",
     "text": [
      "hello, I'm a computer\n"
     ]
    }
   ],
   "source": [
    "string1 = \"hello, I'm a computer\"\n",
    "print(string1)"
   ]
  },
  {
   "cell_type": "code",
   "execution_count": 31,
   "id": "744794fc",
   "metadata": {},
   "outputs": [
    {
     "name": "stdout",
     "output_type": "stream",
     "text": [
      "welcome to the world\n"
     ]
    }
   ],
   "source": [
    "string1 = \"welcome to the world\"\n",
    "print(string1)"
   ]
  },
  {
   "cell_type": "code",
   "execution_count": 32,
   "id": "8f2a4b79",
   "metadata": {},
   "outputs": [],
   "source": [
    "# Deletion of a character"
   ]
  },
  {
   "cell_type": "code",
   "execution_count": 34,
   "id": "9c46293a",
   "metadata": {},
   "outputs": [
    {
     "name": "stdout",
     "output_type": "stream",
     "text": [
      "hello, I'm a computer\n"
     ]
    }
   ],
   "source": [
    "s1 = \"hello, I'm a computer\" #we have deleted -\"l\"\n",
    "#     01234567891011\n",
    "print(s1)"
   ]
  },
  {
   "cell_type": "code",
   "execution_count": 36,
   "id": "e1d3ba6f",
   "metadata": {},
   "outputs": [
    {
     "name": "stdout",
     "output_type": "stream",
     "text": [
      "helo, I'm a computer\n"
     ]
    }
   ],
   "source": [
    "s2 = s1[0:2] + s1[3:]\n",
    "print(s2)"
   ]
  },
  {
   "cell_type": "code",
   "execution_count": 37,
   "id": "58553bc7",
   "metadata": {},
   "outputs": [],
   "source": [
    "#Delete entire string"
   ]
  },
  {
   "cell_type": "code",
   "execution_count": 39,
   "id": "054e1c7a",
   "metadata": {},
   "outputs": [
    {
     "name": "stdout",
     "output_type": "stream",
     "text": [
      "hello, I'm a computer\n"
     ]
    }
   ],
   "source": [
    "s3 = \"hello, I'm a computer\"\n",
    "print(s3)"
   ]
  },
  {
   "cell_type": "code",
   "execution_count": 40,
   "id": "362bc66b",
   "metadata": {},
   "outputs": [
    {
     "ename": "NameError",
     "evalue": "name 's3' is not defined",
     "output_type": "error",
     "traceback": [
      "\u001b[1;31m---------------------------------------------------------------------------\u001b[0m",
      "\u001b[1;31mNameError\u001b[0m                                 Traceback (most recent call last)",
      "\u001b[1;32m~\\AppData\\Local\\Temp\\ipykernel_13916\\680814546.py\u001b[0m in \u001b[0;36m<module>\u001b[1;34m\u001b[0m\n\u001b[0;32m      1\u001b[0m \u001b[1;32mdel\u001b[0m \u001b[0ms3\u001b[0m\u001b[1;33m\u001b[0m\u001b[1;33m\u001b[0m\u001b[0m\n\u001b[1;32m----> 2\u001b[1;33m \u001b[0mprint\u001b[0m\u001b[1;33m(\u001b[0m\u001b[0ms3\u001b[0m\u001b[1;33m)\u001b[0m\u001b[1;33m\u001b[0m\u001b[1;33m\u001b[0m\u001b[0m\n\u001b[0m",
      "\u001b[1;31mNameError\u001b[0m: name 's3' is not defined"
     ]
    }
   ],
   "source": [
    "del s3\n",
    "print(s3)"
   ]
  },
  {
   "cell_type": "markdown",
   "id": "9c1f7378",
   "metadata": {},
   "source": [
    "# Escape sequencing in python"
   ]
  },
  {
   "cell_type": "code",
   "execution_count": 41,
   "id": "de92de63",
   "metadata": {},
   "outputs": [
    {
     "name": "stdout",
     "output_type": "stream",
     "text": [
      "I'm a computer\n"
     ]
    }
   ],
   "source": [
    "w1 = \"I'm a computer\"\n",
    "print(w1)"
   ]
  },
  {
   "cell_type": "code",
   "execution_count": 42,
   "id": "b00553ed",
   "metadata": {},
   "outputs": [
    {
     "ename": "SyntaxError",
     "evalue": "invalid syntax (1175786389.py, line 1)",
     "output_type": "error",
     "traceback": [
      "\u001b[1;36m  File \u001b[1;32m\"C:\\Users\\avani\\AppData\\Local\\Temp\\ipykernel_13916\\1175786389.py\"\u001b[1;36m, line \u001b[1;32m1\u001b[0m\n\u001b[1;33m    w1 = 'I'm a computer'\u001b[0m\n\u001b[1;37m            ^\u001b[0m\n\u001b[1;31mSyntaxError\u001b[0m\u001b[1;31m:\u001b[0m invalid syntax\n"
     ]
    }
   ],
   "source": [
    "w1 = 'I'm a computer'\n",
    "print(w1)"
   ]
  },
  {
   "cell_type": "code",
   "execution_count": 44,
   "id": "79fbf700",
   "metadata": {},
   "outputs": [
    {
     "name": "stdout",
     "output_type": "stream",
     "text": [
      "I'm a computer\n"
     ]
    }
   ],
   "source": [
    "w1 = '''I'm a computer'''\n",
    "print(w1)"
   ]
  },
  {
   "cell_type": "code",
   "execution_count": 45,
   "id": "c2585f2c",
   "metadata": {},
   "outputs": [
    {
     "name": "stdout",
     "output_type": "stream",
     "text": [
      "I'm a computer\n"
     ]
    }
   ],
   "source": [
    "w2 = 'I\\'m a computer'\n",
    "print(w2)"
   ]
  },
  {
   "cell_type": "code",
   "execution_count": 46,
   "id": "05c4044c",
   "metadata": {},
   "outputs": [
    {
     "name": "stdout",
     "output_type": "stream",
     "text": [
      "I'm a \"computer\"\n"
     ]
    }
   ],
   "source": [
    "w2 = \"I'm a \\\"computer\\\"\"\n",
    "print(w2)"
   ]
  },
  {
   "cell_type": "code",
   "execution_count": 47,
   "id": "9a857e43",
   "metadata": {},
   "outputs": [
    {
     "name": "stdout",
     "output_type": "stream",
     "text": [
      "This is \\110\\145\\156\n"
     ]
    }
   ],
   "source": [
    "w1 = r\"This is \\110\\145\\156\"\n",
    "print(w1)"
   ]
  },
  {
   "cell_type": "markdown",
   "id": "d250534b",
   "metadata": {},
   "source": [
    "# Formatting of Strings"
   ]
  },
  {
   "cell_type": "code",
   "execution_count": 50,
   "id": "c938233b",
   "metadata": {},
   "outputs": [
    {
     "name": "stdout",
     "output_type": "stream",
     "text": [
      "hellohiHI\n"
     ]
    }
   ],
   "source": [
    "s1 = \"{1}{0}{2}\".format(\"hi\",\"hello\",\"HI\")\n",
    "print(s1)"
   ]
  },
  {
   "cell_type": "code",
   "execution_count": 51,
   "id": "e70c38ae",
   "metadata": {},
   "outputs": [
    {
     "name": "stdout",
     "output_type": "stream",
     "text": [
      "HIhellohi\n"
     ]
    }
   ],
   "source": [
    "s1 = \"{l}{f}{g}\".format(g=\"hi\",f=\"hello\",l=\"HI\")\n",
    "print(s1)"
   ]
  },
  {
   "cell_type": "code",
   "execution_count": 52,
   "id": "0b4f7d4a",
   "metadata": {},
   "outputs": [
    {
     "name": "stdout",
     "output_type": "stream",
     "text": [
      "hihelloHI\n"
     ]
    }
   ],
   "source": [
    "s1 = \"{}{}{}\".format(\"hi\",\"hello\",\"HI\")\n",
    "print(s1)"
   ]
  },
  {
   "cell_type": "code",
   "execution_count": 53,
   "id": "26dbc508",
   "metadata": {},
   "outputs": [
    {
     "name": "stdout",
     "output_type": "stream",
     "text": [
      "10000\n"
     ]
    }
   ],
   "source": [
    "string1 = \"{0:b}\".format(16)\n",
    "print(string1)"
   ]
  },
  {
   "cell_type": "code",
   "execution_count": 54,
   "id": "e362b9bc",
   "metadata": {},
   "outputs": [
    {
     "name": "stdout",
     "output_type": "stream",
     "text": [
      "1.656400e+02\n"
     ]
    }
   ],
   "source": [
    "#Formatting of floats\n",
    "string1 = \"{0:e}\".format(165.64)\n",
    "print(string1)"
   ]
  },
  {
   "cell_type": "code",
   "execution_count": 55,
   "id": "2a92163a",
   "metadata": {},
   "outputs": [
    {
     "name": "stdout",
     "output_type": "stream",
     "text": [
      "0.17\n"
     ]
    }
   ],
   "source": [
    "#Formatting of Intergers\n",
    "string1 = \"{0:.2f}\".format(1/6)\n",
    "print(string1)"
   ]
  },
  {
   "cell_type": "code",
   "execution_count": 56,
   "id": "63e92be7",
   "metadata": {},
   "outputs": [
    {
     "ename": "TypeError",
     "evalue": "not all arguments converted during string formatting",
     "output_type": "error",
     "traceback": [
      "\u001b[1;31m---------------------------------------------------------------------------\u001b[0m",
      "\u001b[1;31mTypeError\u001b[0m                                 Traceback (most recent call last)",
      "\u001b[1;32m~\\AppData\\Local\\Temp\\ipykernel_13916\\2283113951.py\u001b[0m in \u001b[0;36m<module>\u001b[1;34m\u001b[0m\n\u001b[0;32m      2\u001b[0m \u001b[1;33m\u001b[0m\u001b[0m\n\u001b[0;32m      3\u001b[0m \u001b[0mint1\u001b[0m \u001b[1;33m=\u001b[0m \u001b[1;36m12.3456788\u001b[0m\u001b[1;33m\u001b[0m\u001b[1;33m\u001b[0m\u001b[0m\n\u001b[1;32m----> 4\u001b[1;33m \u001b[0mprint\u001b[0m\u001b[1;33m(\u001b[0m\u001b[1;34m\"formatting in 3.2f format:\"\u001b[0m \u001b[1;33m%\u001b[0m\u001b[0mint1\u001b[0m\u001b[1;33m)\u001b[0m\u001b[1;33m\u001b[0m\u001b[1;33m\u001b[0m\u001b[0m\n\u001b[0m",
      "\u001b[1;31mTypeError\u001b[0m: not all arguments converted during string formatting"
     ]
    }
   ],
   "source": [
    "# % operator\n",
    "\n",
    "int1 = 12.3456788\n",
    "print(\"formatting in 3.2f format:\" %int1)"
   ]
  },
  {
   "cell_type": "code",
   "execution_count": 57,
   "id": "87d33e6b",
   "metadata": {},
   "outputs": [
    {
     "name": "stdout",
     "output_type": "stream",
     "text": [
      "formatting in 3.2f format: 12.35\n"
     ]
    }
   ],
   "source": [
    "# % operator\n",
    "\n",
    "int1 = 12.3456788\n",
    "print(\"formatting in 3.2f format: %3.2f\" %int1)"
   ]
  },
  {
   "cell_type": "markdown",
   "id": "0b5c0a54",
   "metadata": {},
   "source": [
    "# List\n",
    "\n",
    "-dynamic sized arrays\n",
    "-a collection of things\n",
    "-[] separated by commans\n",
    "-lists are mutable .That means they can be altered "
   ]
  },
  {
   "cell_type": "code",
   "execution_count": 58,
   "id": "2958d878",
   "metadata": {},
   "outputs": [
    {
     "name": "stdout",
     "output_type": "stream",
     "text": [
      "[1, 2, 3, 4]\n"
     ]
    }
   ],
   "source": [
    "var1 = [1,2,3,4]\n",
    "print(var1)"
   ]
  },
  {
   "cell_type": "code",
   "execution_count": 59,
   "id": "4f9f257d",
   "metadata": {},
   "outputs": [
    {
     "name": "stdout",
     "output_type": "stream",
     "text": [
      "['a', 'b', 'c']\n"
     ]
    }
   ],
   "source": [
    "v2 = ['a','b','c']\n",
    "print(v2)"
   ]
  },
  {
   "cell_type": "code",
   "execution_count": 60,
   "id": "638d5c5d",
   "metadata": {},
   "outputs": [
    {
     "name": "stdout",
     "output_type": "stream",
     "text": [
      "[1, 'a', 3, 'b']\n"
     ]
    }
   ],
   "source": [
    "v3=[1,'a',3,'b']\n",
    "print(v3)"
   ]
  },
  {
   "cell_type": "code",
   "execution_count": 61,
   "id": "66b38bce",
   "metadata": {},
   "outputs": [
    {
     "name": "stdout",
     "output_type": "stream",
     "text": [
      "[]\n"
     ]
    }
   ],
   "source": [
    "l1 = [] #creating of list\n",
    "print(l1)"
   ]
  },
  {
   "cell_type": "code",
   "execution_count": 62,
   "id": "a7249947",
   "metadata": {},
   "outputs": [
    {
     "name": "stdout",
     "output_type": "stream",
     "text": [
      "[10, 121, 23]\n"
     ]
    }
   ],
   "source": [
    "l1=[10,121,23]\n",
    "print(l1)"
   ]
  },
  {
   "cell_type": "code",
   "execution_count": 63,
   "id": "daabbc05",
   "metadata": {},
   "outputs": [
    {
     "name": "stdout",
     "output_type": "stream",
     "text": [
      "23\n"
     ]
    }
   ],
   "source": [
    "print(l1[2])"
   ]
  },
  {
   "cell_type": "code",
   "execution_count": 64,
   "id": "68d809c1",
   "metadata": {},
   "outputs": [
    {
     "name": "stdout",
     "output_type": "stream",
     "text": [
      "[1, 2, 3, 3, 4, 4]\n"
     ]
    }
   ],
   "source": [
    "l1 = [1,2,3,3,4,4]\n",
    "print(l1)"
   ]
  },
  {
   "cell_type": "code",
   "execution_count": 65,
   "id": "a1509bc1",
   "metadata": {},
   "outputs": [],
   "source": [
    "l2 = [[\"computer\",'for'],[1,2,3,4]] "
   ]
  },
  {
   "cell_type": "code",
   "execution_count": 66,
   "id": "fad3a482",
   "metadata": {},
   "outputs": [
    {
     "name": "stdout",
     "output_type": "stream",
     "text": [
      "for\n"
     ]
    }
   ],
   "source": [
    "print(l2[0][1])"
   ]
  },
  {
   "cell_type": "code",
   "execution_count": 67,
   "id": "85f1c319",
   "metadata": {},
   "outputs": [],
   "source": [
    "l3 = [1,2,\"computer\",4,5,6,7,\"for\",\"we\"] #Negative Inndexing"
   ]
  },
  {
   "cell_type": "code",
   "execution_count": 68,
   "id": "3a79c572",
   "metadata": {},
   "outputs": [
    {
     "name": "stdout",
     "output_type": "stream",
     "text": [
      "we\n"
     ]
    }
   ],
   "source": [
    "print(l3[-1])"
   ]
  },
  {
   "cell_type": "code",
   "execution_count": 69,
   "id": "f6fa0832",
   "metadata": {},
   "outputs": [
    {
     "name": "stdout",
     "output_type": "stream",
     "text": [
      "7\n"
     ]
    }
   ],
   "source": [
    "print(l3[-3])"
   ]
  },
  {
   "cell_type": "markdown",
   "id": "49af3a6b",
   "metadata": {},
   "source": [
    "# Size of List"
   ]
  },
  {
   "cell_type": "code",
   "execution_count": 70,
   "id": "964cd4f8",
   "metadata": {},
   "outputs": [
    {
     "name": "stdout",
     "output_type": "stream",
     "text": [
      "9\n"
     ]
    }
   ],
   "source": [
    "print(len(l3))"
   ]
  },
  {
   "cell_type": "code",
   "execution_count": 71,
   "id": "1ad85fa1",
   "metadata": {},
   "outputs": [
    {
     "name": "stdout",
     "output_type": "stream",
     "text": [
      "2\n"
     ]
    }
   ],
   "source": [
    "print(len(l2))"
   ]
  },
  {
   "cell_type": "markdown",
   "id": "4085e61e",
   "metadata": {},
   "source": [
    "# Input from User "
   ]
  },
  {
   "cell_type": "code",
   "execution_count": 73,
   "id": "d3e734a5",
   "metadata": {},
   "outputs": [
    {
     "name": "stdout",
     "output_type": "stream",
     "text": [
      "Enter elementshi i am a computer\n"
     ]
    }
   ],
   "source": [
    "s1 = input(\"Enter elements\") #Default data type - string\n"
   ]
  },
  {
   "cell_type": "code",
   "execution_count": 74,
   "id": "fbb92073",
   "metadata": {},
   "outputs": [
    {
     "name": "stdout",
     "output_type": "stream",
     "text": [
      "the list is : ['hi', 'i', 'am', 'a', 'computer']\n"
     ]
    }
   ],
   "source": [
    "l2 = s1.split()\n",
    "print(\"the list is :\", l2)"
   ]
  },
  {
   "cell_type": "code",
   "execution_count": 79,
   "id": "ee59c8ab",
   "metadata": {},
   "outputs": [
    {
     "name": "stdout",
     "output_type": "stream",
     "text": [
      "enter the integers3,4,5,6,7\n"
     ]
    },
    {
     "ename": "ValueError",
     "evalue": "invalid literal for int() with base 10: ','",
     "output_type": "error",
     "traceback": [
      "\u001b[1;31m---------------------------------------------------------------------------\u001b[0m",
      "\u001b[1;31mValueError\u001b[0m                                Traceback (most recent call last)",
      "\u001b[1;32m~\\AppData\\Local\\Temp\\ipykernel_13916\\1455475275.py\u001b[0m in \u001b[0;36m<module>\u001b[1;34m\u001b[0m\n\u001b[0;32m      1\u001b[0m \u001b[1;31m#n = int(input(\" enter the elements of list\"))\u001b[0m\u001b[1;33m\u001b[0m\u001b[1;33m\u001b[0m\u001b[0m\n\u001b[0;32m      2\u001b[0m \u001b[1;33m\u001b[0m\u001b[0m\n\u001b[1;32m----> 3\u001b[1;33m \u001b[0ml1\u001b[0m \u001b[1;33m=\u001b[0m \u001b[0mlist\u001b[0m\u001b[1;33m(\u001b[0m\u001b[0mmap\u001b[0m\u001b[1;33m(\u001b[0m\u001b[0mint\u001b[0m\u001b[1;33m,\u001b[0m\u001b[0minput\u001b[0m\u001b[1;33m(\u001b[0m\u001b[1;34m\"enter the integers\"\u001b[0m\u001b[1;33m)\u001b[0m\u001b[1;33m)\u001b[0m\u001b[1;33m)\u001b[0m\u001b[1;33m\u001b[0m\u001b[1;33m\u001b[0m\u001b[0m\n\u001b[0m",
      "\u001b[1;31mValueError\u001b[0m: invalid literal for int() with base 10: ','"
     ]
    }
   ],
   "source": [
    "#n = int(input(\" enter the elements of list\"))\n",
    "\n",
    "l1 = list(map(int,input(\"enter the integers\")))"
   ]
  },
  {
   "cell_type": "code",
   "execution_count": 83,
   "id": "aba95650",
   "metadata": {},
   "outputs": [],
   "source": [
    "l1 = [[\"comp\",\"pyth\"],[0,1,2,3,4]]"
   ]
  },
  {
   "cell_type": "code",
   "execution_count": 84,
   "id": "2df3e2d4",
   "metadata": {},
   "outputs": [
    {
     "name": "stdout",
     "output_type": "stream",
     "text": [
      "pyth\n"
     ]
    }
   ],
   "source": [
    "print(l1[0][1])"
   ]
  },
  {
   "cell_type": "code",
   "execution_count": 80,
   "id": "af3f74c8",
   "metadata": {},
   "outputs": [
    {
     "name": "stdout",
     "output_type": "stream",
     "text": [
      " enter the size of list5\n"
     ]
    }
   ],
   "source": [
    "n = int(input(\" enter the size of list\"))"
   ]
  },
  {
   "cell_type": "code",
   "execution_count": 82,
   "id": "d131da0b",
   "metadata": {},
   "outputs": [
    {
     "name": "stdout",
     "output_type": "stream",
     "text": [
      "enter the integers6 4 5 6\n",
      "the list is [6, 4, 5, 6]\n"
     ]
    }
   ],
   "source": [
    "\n",
    "l1 = list(map(int,input(\"enter the integers\").strip().split()))[:n]\n",
    "print(\"the list is\",l1)"
   ]
  },
  {
   "cell_type": "markdown",
   "id": "244003f6",
   "metadata": {},
   "source": [
    "# Adding elements to a List"
   ]
  },
  {
   "cell_type": "code",
   "execution_count": 85,
   "id": "54df6661",
   "metadata": {},
   "outputs": [],
   "source": [
    "#use append method"
   ]
  },
  {
   "cell_type": "code",
   "execution_count": 86,
   "id": "18b51ffe",
   "metadata": {},
   "outputs": [
    {
     "name": "stdout",
     "output_type": "stream",
     "text": [
      "[]\n"
     ]
    }
   ],
   "source": [
    "l1 = []\n",
    "print(l1)"
   ]
  },
  {
   "cell_type": "code",
   "execution_count": 87,
   "id": "0a857f5b",
   "metadata": {},
   "outputs": [],
   "source": [
    "l1.append(1)"
   ]
  },
  {
   "cell_type": "code",
   "execution_count": 88,
   "id": "652d41e5",
   "metadata": {},
   "outputs": [],
   "source": [
    "l1.append(2)"
   ]
  },
  {
   "cell_type": "code",
   "execution_count": 89,
   "id": "27be5d2d",
   "metadata": {},
   "outputs": [
    {
     "name": "stdout",
     "output_type": "stream",
     "text": [
      "[1, 2]\n"
     ]
    }
   ],
   "source": [
    "print(l1)"
   ]
  },
  {
   "cell_type": "code",
   "execution_count": 90,
   "id": "7a1d7792",
   "metadata": {},
   "outputs": [
    {
     "name": "stdout",
     "output_type": "stream",
     "text": [
      "[1, 2, 1, 2, 3]\n"
     ]
    }
   ],
   "source": [
    "for i in range(1,4):\n",
    "    l1.append(i)\n",
    "print(l1)"
   ]
  },
  {
   "cell_type": "code",
   "execution_count": 91,
   "id": "0c3be385",
   "metadata": {},
   "outputs": [],
   "source": [
    "l2 = [\"Adverk1\",\"adverk2\"]"
   ]
  },
  {
   "cell_type": "code",
   "execution_count": 92,
   "id": "e357c559",
   "metadata": {},
   "outputs": [
    {
     "name": "stdout",
     "output_type": "stream",
     "text": [
      "[1, 2, 1, 2, 3, ['Adverk1', 'adverk2']]\n"
     ]
    }
   ],
   "source": [
    "l1.append(l2)\n",
    "print(l1)"
   ]
  },
  {
   "cell_type": "code",
   "execution_count": 95,
   "id": "8b175c4d",
   "metadata": {},
   "outputs": [
    {
     "name": "stdout",
     "output_type": "stream",
     "text": [
      "[1, 2, 12, 1, 12, 2, 3, ['Adverk1', 'adverk2']]\n"
     ]
    }
   ],
   "source": [
    "#insert method\n",
    "\n",
    "l1.insert(2,12)\n",
    "print(l1)"
   ]
  },
  {
   "cell_type": "code",
   "execution_count": 96,
   "id": "35a31358",
   "metadata": {},
   "outputs": [
    {
     "name": "stdout",
     "output_type": "stream",
     "text": [
      "[1, 2, 12, 1, 12, 2, 3, ['Adverk1', 'adverk2'], 8, 9, 10]\n"
     ]
    }
   ],
   "source": [
    "l1.extend([8,9,10])\n",
    "print(l1)"
   ]
  },
  {
   "cell_type": "markdown",
   "id": "64bb28dc",
   "metadata": {},
   "source": [
    "# Reversing of a List"
   ]
  },
  {
   "cell_type": "code",
   "execution_count": 97,
   "id": "ebe01f43",
   "metadata": {},
   "outputs": [
    {
     "name": "stdout",
     "output_type": "stream",
     "text": [
      "[10, 9, 8, ['Adverk1', 'adverk2'], 3, 2, 12, 1, 12, 2, 1]\n"
     ]
    }
   ],
   "source": [
    "l1.reverse()\n",
    "print(l1)"
   ]
  },
  {
   "cell_type": "markdown",
   "id": "13154e05",
   "metadata": {},
   "source": [
    "# Remove elements from the List"
   ]
  },
  {
   "cell_type": "code",
   "execution_count": 98,
   "id": "e3547815",
   "metadata": {},
   "outputs": [],
   "source": [
    "l1.remove(12)"
   ]
  },
  {
   "cell_type": "code",
   "execution_count": 99,
   "id": "4e239a13",
   "metadata": {},
   "outputs": [
    {
     "name": "stdout",
     "output_type": "stream",
     "text": [
      "[10, 9, 8, ['Adverk1', 'adverk2'], 3, 2, 1, 12, 2, 1]\n"
     ]
    }
   ],
   "source": [
    "print(l1)"
   ]
  },
  {
   "cell_type": "code",
   "execution_count": 100,
   "id": "8a5ed580",
   "metadata": {},
   "outputs": [
    {
     "data": {
      "text/plain": [
       "1"
      ]
     },
     "execution_count": 100,
     "metadata": {},
     "output_type": "execute_result"
    }
   ],
   "source": [
    "l1.pop()"
   ]
  },
  {
   "cell_type": "code",
   "execution_count": 101,
   "id": "73399853",
   "metadata": {},
   "outputs": [
    {
     "name": "stdout",
     "output_type": "stream",
     "text": [
      "[10, 9, 8, ['Adverk1', 'adverk2'], 3, 2, 1, 12, 2]\n"
     ]
    }
   ],
   "source": [
    "print(l1)"
   ]
  },
  {
   "cell_type": "code",
   "execution_count": 102,
   "id": "853c1cdb",
   "metadata": {},
   "outputs": [
    {
     "data": {
      "text/plain": [
       "8"
      ]
     },
     "execution_count": 102,
     "metadata": {},
     "output_type": "execute_result"
    }
   ],
   "source": [
    "l1.pop(2)\n"
   ]
  },
  {
   "cell_type": "code",
   "execution_count": 103,
   "id": "4305c87b",
   "metadata": {},
   "outputs": [
    {
     "name": "stdout",
     "output_type": "stream",
     "text": [
      "[10, 9, ['Adverk1', 'adverk2'], 3, 2, 1, 12, 2]\n"
     ]
    }
   ],
   "source": [
    "print(l1)"
   ]
  },
  {
   "cell_type": "markdown",
   "id": "8ec394ff",
   "metadata": {},
   "source": [
    "# Slicing of list"
   ]
  },
  {
   "cell_type": "code",
   "execution_count": 104,
   "id": "8c9248a7",
   "metadata": {},
   "outputs": [],
   "source": [
    "l2 = [1,2,3,4,5,6,7,8]"
   ]
  },
  {
   "cell_type": "code",
   "execution_count": 105,
   "id": "d74c6d84",
   "metadata": {},
   "outputs": [
    {
     "name": "stdout",
     "output_type": "stream",
     "text": [
      "[4, 5, 6, 7]\n"
     ]
    }
   ],
   "source": [
    "slice_l2 = l2[3:7]\n",
    "print(slice_l2)"
   ]
  },
  {
   "cell_type": "code",
   "execution_count": 106,
   "id": "af484b38",
   "metadata": {},
   "outputs": [
    {
     "name": "stdout",
     "output_type": "stream",
     "text": [
      "[4, 5, 6, 7, 8]\n"
     ]
    }
   ],
   "source": [
    "slice_l2 = l2[3:]\n",
    "print(slice_l2)"
   ]
  },
  {
   "cell_type": "code",
   "execution_count": 107,
   "id": "60602617",
   "metadata": {},
   "outputs": [
    {
     "name": "stdout",
     "output_type": "stream",
     "text": [
      "[1, 2, 3, 4, 5, 6, 7, 8]\n"
     ]
    }
   ],
   "source": [
    "slice_l2 = l2[:]\n",
    "print(slice_l2)"
   ]
  },
  {
   "cell_type": "code",
   "execution_count": 108,
   "id": "f7effeff",
   "metadata": {},
   "outputs": [
    {
     "name": "stdout",
     "output_type": "stream",
     "text": [
      "[1, 2, 3, 4, 5]\n"
     ]
    }
   ],
   "source": [
    "slice_l2 = l2[:5]\n",
    "print(slice_l2)"
   ]
  },
  {
   "cell_type": "code",
   "execution_count": 109,
   "id": "c39840e2",
   "metadata": {},
   "outputs": [
    {
     "name": "stdout",
     "output_type": "stream",
     "text": [
      "[1, 2]\n"
     ]
    }
   ],
   "source": [
    "slice_l2 = l2[:-6]\n",
    "print(slice_l2)"
   ]
  },
  {
   "cell_type": "code",
   "execution_count": 110,
   "id": "39a14e15",
   "metadata": {},
   "outputs": [
    {
     "name": "stdout",
     "output_type": "stream",
     "text": [
      "[6, 7]\n"
     ]
    }
   ],
   "source": [
    "slice_l2 = l2[-3:-1]\n",
    "print(slice_l2)"
   ]
  },
  {
   "cell_type": "code",
   "execution_count": 111,
   "id": "90c9a3c1",
   "metadata": {},
   "outputs": [
    {
     "name": "stdout",
     "output_type": "stream",
     "text": [
      "[8, 7, 6, 5, 4, 3, 2, 1]\n"
     ]
    }
   ],
   "source": [
    "slice_l2 = l2[::-1]\n",
    "print(slice_l2)"
   ]
  },
  {
   "cell_type": "markdown",
   "id": "c1c33245",
   "metadata": {},
   "source": [
    "# List comprehension\n",
    "\n",
    "-for creating new lists fro other iterables like strings,tuples\n",
    "\n",
    "newlist = [expression(elements) for element in oldlidt if condition]"
   ]
  },
  {
   "cell_type": "code",
   "execution_count": 117,
   "id": "5dc62407",
   "metadata": {},
   "outputs": [],
   "source": [
    "odd1 = [x**2 for x in range(11,40) if x % 2 == 0]"
   ]
  },
  {
   "cell_type": "code",
   "execution_count": 118,
   "id": "a34d3394",
   "metadata": {},
   "outputs": [
    {
     "name": "stdout",
     "output_type": "stream",
     "text": [
      "[144, 196, 256, 324, 400, 484, 576, 676, 784, 900, 1024, 1156, 1296, 1444]\n"
     ]
    }
   ],
   "source": [
    "print(odd1)"
   ]
  },
  {
   "cell_type": "code",
   "execution_count": 114,
   "id": "8c99e28c",
   "metadata": {},
   "outputs": [
    {
     "name": "stdout",
     "output_type": "stream",
     "text": [
      "[1, 9, 25, 49, 81]\n"
     ]
    }
   ],
   "source": [
    "odd1 = []\n",
    "\n",
    "for x in range (1,11):\n",
    "    if x % 2 == 1:\n",
    "        odd1.append(x**2)\n",
    "        \n",
    "print(odd1)"
   ]
  },
  {
   "cell_type": "code",
   "execution_count": null,
   "id": "3293d7b8",
   "metadata": {},
   "outputs": [],
   "source": [
    "#write a program where you are creating a list which have even "
   ]
  }
 ],
 "metadata": {
  "kernelspec": {
   "display_name": "Python 3 (ipykernel)",
   "language": "python",
   "name": "python3"
  },
  "language_info": {
   "codemirror_mode": {
    "name": "ipython",
    "version": 3
   },
   "file_extension": ".py",
   "mimetype": "text/x-python",
   "name": "python",
   "nbconvert_exporter": "python",
   "pygments_lexer": "ipython3",
   "version": "3.9.13"
  }
 },
 "nbformat": 4,
 "nbformat_minor": 5
}
