{
 "cells": [
  {
   "cell_type": "code",
   "execution_count": 1,
   "id": "bc26087e",
   "metadata": {},
   "outputs": [],
   "source": [
    "a = 10"
   ]
  },
  {
   "cell_type": "markdown",
   "id": "7fa5d469",
   "metadata": {},
   "source": [
    "- in python we donot need to define the variable datatype"
   ]
  },
  {
   "cell_type": "code",
   "execution_count": 2,
   "id": "2289a406",
   "metadata": {},
   "outputs": [],
   "source": [
    "a = 'c'"
   ]
  },
  {
   "cell_type": "code",
   "execution_count": 3,
   "id": "ca9bdaa6",
   "metadata": {},
   "outputs": [
    {
     "data": {
      "text/plain": [
       "str"
      ]
     },
     "execution_count": 3,
     "metadata": {},
     "output_type": "execute_result"
    }
   ],
   "source": [
    "type(a)"
   ]
  },
  {
   "cell_type": "markdown",
   "id": "cee994a1",
   "metadata": {},
   "source": [
    "- in python, there is only character. Only string is there "
   ]
  },
  {
   "cell_type": "code",
   "execution_count": 4,
   "id": "633ed0d1",
   "metadata": {},
   "outputs": [
    {
     "data": {
      "text/plain": [
       "0"
      ]
     },
     "execution_count": 4,
     "metadata": {},
     "output_type": "execute_result"
    }
   ],
   "source": [
    "int()"
   ]
  },
  {
   "cell_type": "code",
   "execution_count": 5,
   "id": "69021db2",
   "metadata": {},
   "outputs": [
    {
     "data": {
      "text/plain": [
       "123"
      ]
     },
     "execution_count": 5,
     "metadata": {},
     "output_type": "execute_result"
    }
   ],
   "source": [
    "int('123') - example of typecasting"
   ]
  },
  {
   "cell_type": "code",
   "execution_count": 6,
   "id": "94d4f3dd",
   "metadata": {},
   "outputs": [
    {
     "ename": "ValueError",
     "evalue": "invalid literal for int() with base 10: 'abcd'",
     "output_type": "error",
     "traceback": [
      "\u001b[1;31m---------------------------------------------------------------------------\u001b[0m",
      "\u001b[1;31mValueError\u001b[0m                                Traceback (most recent call last)",
      "\u001b[1;32m~\\AppData\\Local\\Temp\\ipykernel_7500\\3990023053.py\u001b[0m in \u001b[0;36m<module>\u001b[1;34m\u001b[0m\n\u001b[1;32m----> 1\u001b[1;33m \u001b[0mint\u001b[0m\u001b[1;33m(\u001b[0m\u001b[1;34m\"abcd\"\u001b[0m\u001b[1;33m)\u001b[0m\u001b[1;33m\u001b[0m\u001b[1;33m\u001b[0m\u001b[0m\n\u001b[0m",
      "\u001b[1;31mValueError\u001b[0m: invalid literal for int() with base 10: 'abcd'"
     ]
    }
   ],
   "source": [
    "int(\"abcd\")"
   ]
  },
  {
   "cell_type": "code",
   "execution_count": 7,
   "id": "0e6ed908",
   "metadata": {},
   "outputs": [
    {
     "name": "stdout",
     "output_type": "stream",
     "text": [
      "abc\n"
     ]
    }
   ],
   "source": [
    "print(\"abc\")"
   ]
  },
  {
   "cell_type": "code",
   "execution_count": 8,
   "id": "0651382a",
   "metadata": {},
   "outputs": [
    {
     "data": {
      "text/plain": [
       "'c'"
      ]
     },
     "execution_count": 8,
     "metadata": {},
     "output_type": "execute_result"
    }
   ],
   "source": [
    "a"
   ]
  },
  {
   "cell_type": "code",
   "execution_count": 9,
   "id": "3b4df3eb",
   "metadata": {},
   "outputs": [
    {
     "name": "stdout",
     "output_type": "stream",
     "text": [
      "123\n"
     ]
    }
   ],
   "source": [
    "print(123)"
   ]
  },
  {
   "cell_type": "code",
   "execution_count": 10,
   "id": "c67ac498",
   "metadata": {},
   "outputs": [
    {
     "name": "stdout",
     "output_type": "stream",
     "text": [
      "my age is 32\n"
     ]
    }
   ],
   "source": [
    "age =32\n",
    "print(\"my age is\",age)"
   ]
  },
  {
   "cell_type": "code",
   "execution_count": 13,
   "id": "3edc0445",
   "metadata": {},
   "outputs": [
    {
     "name": "stdout",
     "output_type": "stream",
     "text": [
      "my age is :32\n"
     ]
    }
   ],
   "source": [
    "print(f\"my age is :{age}\") #f here means formatting - f string"
   ]
  },
  {
   "cell_type": "code",
   "execution_count": 14,
   "id": "69757049",
   "metadata": {},
   "outputs": [
    {
     "name": "stdout",
     "output_type": "stream",
     "text": [
      "my name is sneha and age is 33\n"
     ]
    }
   ],
   "source": [
    "name = \"sneha\"\n",
    "age = 33\n",
    "print(\"my name is {} and age is {}\".format(name,age)) #order is important and sequence is important"
   ]
  },
  {
   "cell_type": "code",
   "execution_count": 15,
   "id": "b4f62d68",
   "metadata": {},
   "outputs": [
    {
     "name": "stdout",
     "output_type": "stream",
     "text": [
      "my name is Avi and age is 34\n"
     ]
    }
   ],
   "source": [
    "print(\"my name is {} and age is {}\".format(\"Avi\",34))"
   ]
  },
  {
   "cell_type": "code",
   "execution_count": 16,
   "id": "07e70c17",
   "metadata": {},
   "outputs": [
    {
     "name": "stdout",
     "output_type": "stream",
     "text": [
      "my name is 33 and age is sneha\n"
     ]
    }
   ],
   "source": [
    "print(\"my name is {} and age is {}\".format(age,name))"
   ]
  },
  {
   "cell_type": "code",
   "execution_count": 17,
   "id": "c3695b2f",
   "metadata": {},
   "outputs": [
    {
     "name": "stdout",
     "output_type": "stream",
     "text": [
      "my name is sneha and age is 33\n"
     ]
    }
   ],
   "source": [
    "#placeholder\n",
    "print(\"my name is {firstname} and age is {firstage}\".format(firstname = name,firstage = age))"
   ]
  },
  {
   "cell_type": "code",
   "execution_count": 20,
   "id": "ab142eb8",
   "metadata": {},
   "outputs": [],
   "source": [
    "n1 = \"Shiva\"\n",
    "a1 = 4\n",
    "deg = \"Masters\""
   ]
  },
  {
   "cell_type": "code",
   "execution_count": 22,
   "id": "354ff376",
   "metadata": {},
   "outputs": [
    {
     "name": "stdout",
     "output_type": "stream",
     "text": [
      "My age is 4 and i have completd: my degree of Masters with the name of Shiva\n"
     ]
    }
   ],
   "source": [
    "print(\"My age is {} and i have completd: my degree of {} with the name of {}\".format(a1,deg,n1))"
   ]
  },
  {
   "cell_type": "markdown",
   "id": "bf223e61",
   "metadata": {},
   "source": [
    "# Decision Making Statement"
   ]
  },
  {
   "cell_type": "markdown",
   "id": "b44dcb82",
   "metadata": {},
   "source": [
    "# if Statement"
   ]
  },
  {
   "cell_type": "code",
   "execution_count": 24,
   "id": "1a03c186",
   "metadata": {},
   "outputs": [
    {
     "name": "stdout",
     "output_type": "stream",
     "text": [
      "you are eligible to vote\n"
     ]
    }
   ],
   "source": [
    "age = 18\n",
    "if age >= 18:\n",
    "    print(\"you are eligible to vote\")\n",
    "    "
   ]
  },
  {
   "cell_type": "code",
   "execution_count": 25,
   "id": "7dcc76a9",
   "metadata": {},
   "outputs": [
    {
     "data": {
      "text/plain": [
       "True"
      ]
     },
     "execution_count": 25,
     "metadata": {},
     "output_type": "execute_result"
    }
   ],
   "source": [
    "18 <= 18"
   ]
  },
  {
   "cell_type": "code",
   "execution_count": 26,
   "id": "b4ce943a",
   "metadata": {},
   "outputs": [
    {
     "name": "stdout",
     "output_type": "stream",
     "text": [
      "asdasds\n"
     ]
    },
    {
     "data": {
      "text/plain": [
       "'asdasds'"
      ]
     },
     "execution_count": 26,
     "metadata": {},
     "output_type": "execute_result"
    }
   ],
   "source": [
    "input() #help us to take input while runtime"
   ]
  },
  {
   "cell_type": "code",
   "execution_count": 27,
   "id": "e6fc64ab",
   "metadata": {},
   "outputs": [
    {
     "name": "stdout",
     "output_type": "stream",
     "text": [
      "Enter your nameSneha\n"
     ]
    }
   ],
   "source": [
    "name = input(\"Enter your name\")"
   ]
  },
  {
   "cell_type": "code",
   "execution_count": 28,
   "id": "cb3278e4",
   "metadata": {},
   "outputs": [
    {
     "data": {
      "text/plain": [
       "'Sneha'"
      ]
     },
     "execution_count": 28,
     "metadata": {},
     "output_type": "execute_result"
    }
   ],
   "source": [
    "name"
   ]
  },
  {
   "cell_type": "code",
   "execution_count": 30,
   "id": "6e9293d8",
   "metadata": {},
   "outputs": [
    {
     "data": {
      "text/plain": [
       "str"
      ]
     },
     "execution_count": 30,
     "metadata": {},
     "output_type": "execute_result"
    }
   ],
   "source": [
    "type(name) # Default data type of input()"
   ]
  },
  {
   "cell_type": "code",
   "execution_count": 31,
   "id": "b2c821ba",
   "metadata": {},
   "outputs": [
    {
     "name": "stdout",
     "output_type": "stream",
     "text": [
      "Enter your age32\n"
     ]
    }
   ],
   "source": [
    "age = int(input(\"Enter your age\"))"
   ]
  },
  {
   "cell_type": "code",
   "execution_count": 32,
   "id": "63c9530a",
   "metadata": {},
   "outputs": [
    {
     "name": "stdout",
     "output_type": "stream",
     "text": [
      "Please input your age32\n"
     ]
    }
   ],
   "source": [
    "v1 = int(input(\"Please input your age\"))"
   ]
  },
  {
   "cell_type": "code",
   "execution_count": 33,
   "id": "084ccbc7",
   "metadata": {},
   "outputs": [
    {
     "name": "stdout",
     "output_type": "stream",
     "text": [
      "you are young blood\n"
     ]
    }
   ],
   "source": [
    "if age >=18 and age <=45:\n",
    "    print(\"you are young blood\")"
   ]
  },
  {
   "cell_type": "code",
   "execution_count": 34,
   "id": "12894ef4",
   "metadata": {},
   "outputs": [
    {
     "name": "stdout",
     "output_type": "stream",
     "text": [
      "you are young blood\n"
     ]
    }
   ],
   "source": [
    "if age >=18 and age <=45:\n",
    "    print(\"you are young blood\")\n",
    "    \n",
    "else:\n",
    "    print(\"we will let you know\")"
   ]
  },
  {
   "cell_type": "code",
   "execution_count": 35,
   "id": "cedbab35",
   "metadata": {},
   "outputs": [
    {
     "name": "stdout",
     "output_type": "stream",
     "text": [
      "Enter the product price2000\n"
     ]
    }
   ],
   "source": [
    "p1 = int(input(\"Enter the product price\"))"
   ]
  },
  {
   "cell_type": "code",
   "execution_count": 38,
   "id": "df2ff282",
   "metadata": {},
   "outputs": [
    {
     "name": "stdout",
     "output_type": "stream",
     "text": [
      "Enter the product price2000\n",
      "your final price is 1600.0\n"
     ]
    }
   ],
   "source": [
    "p1 = int(input(\"Enter the product price\"))\n",
    "if p1 > 1000:\n",
    "    discount = 0.8 *p1\n",
    "    print(\"your final price is\",discount)"
   ]
  },
  {
   "cell_type": "code",
   "execution_count": 39,
   "id": "382261ee",
   "metadata": {},
   "outputs": [
    {
     "name": "stdout",
     "output_type": "stream",
     "text": [
      "Enter the product price3000\n",
      "your final price is 2400.0\n"
     ]
    }
   ],
   "source": [
    "p1 = int(input(\"Enter the product price\"))\n",
    "if p1 > 1000:\n",
    "    print(\"your final price is {}\".format(p1*0.8))"
   ]
  },
  {
   "cell_type": "code",
   "execution_count": 41,
   "id": "1fcbe957",
   "metadata": {},
   "outputs": [
    {
     "name": "stdout",
     "output_type": "stream",
     "text": [
      "Enter the product price5000\n",
      "your final price is 4000.0\n"
     ]
    }
   ],
   "source": [
    "p1 = int(input(\"Enter the product price\"))\n",
    "if p1 > 3000:\n",
    "    print(\"your final price is {}\".format(p1*0.8))\n",
    "elif p1 >=2000 and p1 <= 3000:\n",
    "    print(\"your final price is {}\".format(p1*0.7))\n",
    "elif p1 >=1000 and p1 <= 2000:\n",
    "    print(\"your final price is {}\".format(p1*0.6))\n",
    "else:\n",
    "    print(\"Better luck next time\")"
   ]
  },
  {
   "cell_type": "code",
   "execution_count": 42,
   "id": "8607f768",
   "metadata": {},
   "outputs": [
    {
     "name": "stdout",
     "output_type": "stream",
     "text": [
      "Enter the product price4000\n",
      "You have got a GOA trip\n",
      "your final price is 3200.0\n"
     ]
    }
   ],
   "source": [
    "p1 = int(input(\"Enter the product price\"))\n",
    "if p1 > 3000:\n",
    "    if p1 == 4000:\n",
    "        print(\"You have got a GOA trip\")\n",
    "    print(\"your final price is {}\".format(p1*0.8))\n",
    "elif p1 >=2000 and p1 <= 3000:\n",
    "    print(\"your final price is {}\".format(p1*0.7))\n",
    "elif p1 >=1000 and p1 <= 2000:\n",
    "    print(\"your final price is {}\".format(p1*0.6))\n",
    "else:\n",
    "    print(\"Better luck next time\")"
   ]
  },
  {
   "cell_type": "code",
   "execution_count": 43,
   "id": "6fdc3060",
   "metadata": {},
   "outputs": [
    {
     "data": {
      "text/plain": [
       "True"
      ]
     },
     "execution_count": 43,
     "metadata": {},
     "output_type": "execute_result"
    }
   ],
   "source": [
    "#comparison operator\n",
    "True == True"
   ]
  },
  {
   "cell_type": "code",
   "execution_count": 44,
   "id": "11b57068",
   "metadata": {},
   "outputs": [
    {
     "name": "stdout",
     "output_type": "stream",
     "text": [
      "enter number10\n",
      "value is \n"
     ]
    }
   ],
   "source": [
    "#Single statement\n",
    "val = int(input(\"enter number\"))\n",
    "if(val<=999):print(\"value is \")\n",
    "else:\n",
    "    print(\"Go home\")"
   ]
  },
  {
   "cell_type": "markdown",
   "id": "9f519bfe",
   "metadata": {},
   "source": [
    "# while loop - is continuing checking the condition. it keep on running til the point its true."
   ]
  },
  {
   "cell_type": "code",
   "execution_count": 45,
   "id": "2e89320d",
   "metadata": {},
   "outputs": [
    {
     "name": "stdout",
     "output_type": "stream",
     "text": [
      "26\n",
      "27\n",
      "28\n",
      "29\n",
      "30\n",
      "31\n",
      "32\n",
      "33\n",
      "34\n",
      "35\n",
      "36\n",
      "37\n",
      "38\n",
      "39\n",
      "40\n",
      "41\n",
      "42\n",
      "43\n",
      "44\n",
      "45\n",
      "46\n",
      "47\n",
      "48\n",
      "49\n",
      "50\n",
      "51\n",
      "52\n",
      "53\n",
      "54\n",
      "55\n",
      "56\n",
      "57\n",
      "58\n",
      "59\n",
      "60\n",
      "61\n"
     ]
    }
   ],
   "source": [
    "joining_age = 25\n",
    "i = 1\n",
    "\n",
    "while joining_age <=60:\n",
    "    joining_age = joining_age +1\n",
    "    print(joining_age)\n"
   ]
  },
  {
   "cell_type": "code",
   "execution_count": 46,
   "id": "4c4552be",
   "metadata": {},
   "outputs": [
    {
     "name": "stdout",
     "output_type": "stream",
     "text": [
      "26\n",
      "27\n",
      "28\n",
      "29\n",
      "30\n",
      "31\n",
      "32\n",
      "33\n",
      "34\n",
      "35\n",
      "36\n",
      "37\n",
      "38\n",
      "39\n",
      "40\n",
      "41\n",
      "42\n",
      "43\n",
      "44\n",
      "45\n",
      "46\n",
      "47\n",
      "48\n",
      "49\n",
      "50\n",
      "51\n",
      "52\n",
      "53\n",
      "54\n",
      "55\n",
      "56\n",
      "57\n",
      "58\n",
      "59\n",
      "60\n",
      "61\n",
      "retirement time\n"
     ]
    }
   ],
   "source": [
    "joining_age = 25\n",
    "i = 1\n",
    "\n",
    "while joining_age <=60:\n",
    "    joining_age = joining_age +1\n",
    "    print(joining_age)\n",
    "else:\n",
    "    print(\"retirement time\")"
   ]
  },
  {
   "cell_type": "code",
   "execution_count": 47,
   "id": "a59b8412",
   "metadata": {},
   "outputs": [
    {
     "name": "stdout",
     "output_type": "stream",
     "text": [
      "25\n",
      "26\n",
      "27\n",
      "28\n",
      "29\n",
      "30\n",
      "31\n",
      "32\n",
      "33\n",
      "34\n",
      "35\n",
      "36\n",
      "37\n",
      "38\n",
      "39\n",
      "40\n",
      "41\n",
      "42\n",
      "43\n",
      "44\n",
      "45\n",
      "46\n",
      "47\n",
      "48\n",
      "49\n",
      "50\n",
      "51\n",
      "52\n",
      "53\n",
      "54\n",
      "55\n",
      "56\n",
      "57\n",
      "58\n",
      "59\n",
      "60\n",
      "retirement time\n"
     ]
    }
   ],
   "source": [
    "joining_age = 25\n",
    "i = 1\n",
    "\n",
    "while joining_age <=60:\n",
    "    print(joining_age)\n",
    "    joining_age = joining_age +1\n",
    "    \n",
    "else:\n",
    "    print(\"retirement time\")"
   ]
  },
  {
   "cell_type": "code",
   "execution_count": 49,
   "id": "15d1d614",
   "metadata": {},
   "outputs": [
    {
     "name": "stdout",
     "output_type": "stream",
     "text": [
      "1000\n",
      "900\n",
      "800\n",
      "700\n",
      "600\n",
      "500\n",
      "400\n",
      "300\n",
      "200\n",
      "100\n",
      "please load money\n"
     ]
    }
   ],
   "source": [
    "total_amount = 1000 \n",
    "\n",
    "while total_amount !=0:\n",
    "        print(total_amount)\n",
    "        total_amount = total_amount - 100\n",
    "else:\n",
    "    print(\"please load money\")"
   ]
  },
  {
   "cell_type": "markdown",
   "id": "e2d2fde4",
   "metadata": {},
   "source": [
    "# For loop"
   ]
  },
  {
   "cell_type": "code",
   "execution_count": 51,
   "id": "e9743205",
   "metadata": {},
   "outputs": [],
   "source": [
    "lst = [\"s1\",1,2,3,4,\"monago\",\"orange\"]"
   ]
  },
  {
   "cell_type": "code",
   "execution_count": 53,
   "id": "f4bca244",
   "metadata": {},
   "outputs": [
    {
     "name": "stdout",
     "output_type": "stream",
     "text": [
      "s1\n",
      "1\n",
      "2\n",
      "3\n",
      "4\n",
      "monago\n",
      "orange\n",
      "Fruits is orange\n"
     ]
    }
   ],
   "source": [
    "for x in lst:\n",
    "    print(x)\n",
    "    if x == \"orange\":\n",
    "        print(\"Fruits is orange\")"
   ]
  },
  {
   "cell_type": "code",
   "execution_count": 54,
   "id": "70f60d5d",
   "metadata": {},
   "outputs": [
    {
     "name": "stdout",
     "output_type": "stream",
     "text": [
      "s11234monagoorangeFruits is orange\n"
     ]
    }
   ],
   "source": [
    "for x in lst:\n",
    "    print(x,end=\"\")\n",
    "    if x == \"orange\":\n",
    "        print(\"Fruits is orange\")"
   ]
  },
  {
   "cell_type": "code",
   "execution_count": null,
   "id": "871f1fed",
   "metadata": {},
   "outputs": [],
   "source": [
    "fr"
   ]
  },
  {
   "cell_type": "code",
   "execution_count": 56,
   "id": "312d85a7",
   "metadata": {},
   "outputs": [
    {
     "name": "stdout",
     "output_type": "stream",
     "text": [
      "m\n",
      "a\n",
      "n\n",
      "g\n",
      "o\n"
     ]
    }
   ],
   "source": [
    "fruit = \"mango\" #thsis collection of elements\n",
    "\n",
    "for x in fruit:\n",
    "    print(x)"
   ]
  },
  {
   "cell_type": "code",
   "execution_count": 58,
   "id": "b8a7c993",
   "metadata": {},
   "outputs": [
    {
     "data": {
      "text/plain": [
       "'a'"
      ]
     },
     "execution_count": 58,
     "metadata": {},
     "output_type": "execute_result"
    }
   ],
   "source": [
    "fruit[1] #indexing also possible in string ."
   ]
  },
  {
   "cell_type": "markdown",
   "id": "77441757",
   "metadata": {},
   "source": [
    "# Nested Loops"
   ]
  },
  {
   "cell_type": "code",
   "execution_count": 61,
   "id": "eb2cd89b",
   "metadata": {},
   "outputs": [
    {
     "data": {
      "text/plain": [
       "range(0, 6)"
      ]
     },
     "execution_count": 61,
     "metadata": {},
     "output_type": "execute_result"
    }
   ],
   "source": [
    "range(0,6)"
   ]
  },
  {
   "cell_type": "code",
   "execution_count": 62,
   "id": "c67f2274",
   "metadata": {},
   "outputs": [
    {
     "name": "stdout",
     "output_type": "stream",
     "text": [
      "1\n",
      "3\n",
      "5\n",
      "7\n",
      "9\n"
     ]
    }
   ],
   "source": [
    "for i in range(1,10,2):\n",
    "    print(i)"
   ]
  },
  {
   "cell_type": "code",
   "execution_count": 66,
   "id": "c754e182",
   "metadata": {},
   "outputs": [
    {
     "name": "stdout",
     "output_type": "stream",
     "text": [
      "*\r\n",
      "**\r\n",
      "***\r\n",
      "****\r\n",
      "*****\r\n",
      "******\r\n",
      "*******\r\n"
     ]
    }
   ],
   "source": [
    "n = 7\n",
    "\n",
    "for i in range(0,n):\n",
    "    for j in range(0,i+1):\n",
    "        print(\"*\",end=\"\")\n",
    "    print(\"\\r\") #carraige return- move to the leftmost side of next line but no space is added"
   ]
  },
  {
   "cell_type": "code",
   "execution_count": 67,
   "id": "5f71145d",
   "metadata": {},
   "outputs": [
    {
     "name": "stdout",
     "output_type": "stream",
     "text": [
      "*\n",
      "\n",
      "**\n",
      "\n",
      "***\n",
      "\n",
      "****\n",
      "\n",
      "*****\n",
      "\n",
      "******\n",
      "\n",
      "*******\n",
      "\n"
     ]
    }
   ],
   "source": [
    "n = 7\n",
    "\n",
    "for i in range(0,n):\n",
    "    for j in range(0,i+1):\n",
    "        print(\"*\",end=\"\")\n",
    "    print(\"\\n\") "
   ]
  },
  {
   "cell_type": "markdown",
   "id": "73eb2281",
   "metadata": {},
   "source": [
    "### Loops controls\n",
    "\n",
    "- break \n",
    "\n",
    "\n",
    "- continue"
   ]
  },
  {
   "cell_type": "code",
   "execution_count": 68,
   "id": "c4355617",
   "metadata": {},
   "outputs": [],
   "source": [
    "fruits = [\"mango\",\"cherry\",\"apple\",\"banana\",\"papaya\"]"
   ]
  },
  {
   "cell_type": "code",
   "execution_count": 69,
   "id": "e462690b",
   "metadata": {},
   "outputs": [
    {
     "name": "stdout",
     "output_type": "stream",
     "text": [
      "mango\n",
      "cherry\n",
      "the fruit is apple\n"
     ]
    }
   ],
   "source": [
    "for i in fruits:\n",
    "    if i == \"apple\":\n",
    "        print(\"the fruit is apple\")\n",
    "        break\n",
    "    print(i)"
   ]
  },
  {
   "cell_type": "code",
   "execution_count": 70,
   "id": "e25ae9de",
   "metadata": {},
   "outputs": [
    {
     "name": "stdout",
     "output_type": "stream",
     "text": [
      "mango\n",
      "cherry\n",
      "the fruit is apple\n",
      "apple\n",
      "banana\n",
      "papaya\n"
     ]
    }
   ],
   "source": [
    "for i in fruits:\n",
    "    if i == \"apple\":\n",
    "        print(\"the fruit is apple\")\n",
    "        \n",
    "    print(i)\n"
   ]
  },
  {
   "cell_type": "code",
   "execution_count": 72,
   "id": "189fa04c",
   "metadata": {},
   "outputs": [
    {
     "name": "stdout",
     "output_type": "stream",
     "text": [
      "mango\n",
      "cherry\n",
      "the fruit is apple\n"
     ]
    }
   ],
   "source": [
    "for i in fruits:\n",
    "    if i == \"apple\":\n",
    "        print(\"the fruit is apple\")\n",
    "        break #loop control- once the apple is found it break the loop and comes out of it\n",
    "    print(i)"
   ]
  },
  {
   "cell_type": "code",
   "execution_count": 74,
   "id": "98c6e262",
   "metadata": {},
   "outputs": [
    {
     "name": "stdout",
     "output_type": "stream",
     "text": [
      "mango\n",
      "cherry\n",
      "the fruit is apple\n",
      "apple\n",
      "banana\n",
      "papaya\n"
     ]
    }
   ],
   "source": [
    "for i in fruits:\n",
    "    if i == \"apple\":\n",
    "        print(\"the fruit is apple\")\n",
    "        pass #loop control-nothing happens\n",
    "    print(i)"
   ]
  },
  {
   "cell_type": "code",
   "execution_count": 75,
   "id": "d3146b6e",
   "metadata": {},
   "outputs": [
    {
     "name": "stdout",
     "output_type": "stream",
     "text": [
      "mango\n",
      "cherry\n",
      "the fruit is apple\n",
      "banana\n",
      "papaya\n"
     ]
    }
   ],
   "source": [
    "for i in fruits:\n",
    "    if i == \"apple\":\n",
    "        print(\"the fruit is apple\")\n",
    "        continue #loop control-skips the apple -teh one step and move to next step\n",
    "    print(i)"
   ]
  },
  {
   "cell_type": "code",
   "execution_count": null,
   "id": "918ab606",
   "metadata": {},
   "outputs": [],
   "source": []
  },
  {
   "cell_type": "code",
   "execution_count": null,
   "id": "2a22e1ea",
   "metadata": {},
   "outputs": [],
   "source": []
  },
  {
   "cell_type": "code",
   "execution_count": null,
   "id": "80a33b2b",
   "metadata": {},
   "outputs": [],
   "source": []
  },
  {
   "cell_type": "code",
   "execution_count": null,
   "id": "ea5a1307",
   "metadata": {},
   "outputs": [],
   "source": []
  },
  {
   "cell_type": "code",
   "execution_count": null,
   "id": "5cd14072",
   "metadata": {},
   "outputs": [],
   "source": []
  },
  {
   "cell_type": "code",
   "execution_count": null,
   "id": "c7d8b94c",
   "metadata": {},
   "outputs": [],
   "source": []
  },
  {
   "cell_type": "code",
   "execution_count": null,
   "id": "a3a94060",
   "metadata": {},
   "outputs": [],
   "source": []
  },
  {
   "cell_type": "code",
   "execution_count": null,
   "id": "0b847f11",
   "metadata": {},
   "outputs": [],
   "source": []
  },
  {
   "cell_type": "code",
   "execution_count": null,
   "id": "6ac6f2d4",
   "metadata": {},
   "outputs": [],
   "source": []
  },
  {
   "cell_type": "code",
   "execution_count": null,
   "id": "68fb9faa",
   "metadata": {},
   "outputs": [],
   "source": []
  },
  {
   "cell_type": "code",
   "execution_count": null,
   "id": "58aef752",
   "metadata": {},
   "outputs": [],
   "source": []
  }
 ],
 "metadata": {
  "kernelspec": {
   "display_name": "Python 3 (ipykernel)",
   "language": "python",
   "name": "python3"
  },
  "language_info": {
   "codemirror_mode": {
    "name": "ipython",
    "version": 3
   },
   "file_extension": ".py",
   "mimetype": "text/x-python",
   "name": "python",
   "nbconvert_exporter": "python",
   "pygments_lexer": "ipython3",
   "version": "3.9.13"
  }
 },
 "nbformat": 4,
 "nbformat_minor": 5
}
