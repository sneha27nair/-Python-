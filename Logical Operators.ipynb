{
 "cells": [
  {
   "cell_type": "markdown",
   "id": "e485983c",
   "metadata": {},
   "source": [
    "# Logical operators\n",
    "\n",
    "1. And - both condition needs to true\n",
    "2. or - only one condition needs to be true\n",
    "3. not - if a condition is true output will false.It is a inverse operation"
   ]
  },
  {
   "cell_type": "code",
   "execution_count": 1,
   "id": "1978eac3",
   "metadata": {},
   "outputs": [
    {
     "data": {
      "text/plain": [
       "True"
      ]
     },
     "execution_count": 1,
     "metadata": {},
     "output_type": "execute_result"
    }
   ],
   "source": [
    "True and True"
   ]
  },
  {
   "cell_type": "code",
   "execution_count": 2,
   "id": "659bf477",
   "metadata": {},
   "outputs": [
    {
     "data": {
      "text/plain": [
       "False"
      ]
     },
     "execution_count": 2,
     "metadata": {},
     "output_type": "execute_result"
    }
   ],
   "source": [
    "True and False"
   ]
  },
  {
   "cell_type": "code",
   "execution_count": 3,
   "id": "4fcdbafa",
   "metadata": {},
   "outputs": [
    {
     "data": {
      "text/plain": [
       "False"
      ]
     },
     "execution_count": 3,
     "metadata": {},
     "output_type": "execute_result"
    }
   ],
   "source": [
    "False and False"
   ]
  },
  {
   "cell_type": "code",
   "execution_count": 4,
   "id": "597871ea",
   "metadata": {},
   "outputs": [
    {
     "data": {
      "text/plain": [
       "True"
      ]
     },
     "execution_count": 4,
     "metadata": {},
     "output_type": "execute_result"
    }
   ],
   "source": [
    "True or False"
   ]
  },
  {
   "cell_type": "code",
   "execution_count": 5,
   "id": "4f7f87f8",
   "metadata": {},
   "outputs": [
    {
     "data": {
      "text/plain": [
       "True"
      ]
     },
     "execution_count": 5,
     "metadata": {},
     "output_type": "execute_result"
    }
   ],
   "source": [
    "not False"
   ]
  },
  {
   "cell_type": "code",
   "execution_count": 9,
   "id": "7b462698",
   "metadata": {},
   "outputs": [
    {
     "name": "stdout",
     "output_type": "stream",
     "text": [
      "False\n"
     ]
    }
   ],
   "source": [
    "start = True\n",
    "stop = False\n",
    "\n",
    "print( f\"{not start}\")"
   ]
  },
  {
   "cell_type": "code",
   "execution_count": 10,
   "id": "74188577",
   "metadata": {},
   "outputs": [
    {
     "name": "stdout",
     "output_type": "stream",
     "text": [
      "{not start}\n"
     ]
    }
   ],
   "source": [
    "print(\"{not start}\")"
   ]
  },
  {
   "cell_type": "code",
   "execution_count": 11,
   "id": "1b8646e5",
   "metadata": {},
   "outputs": [
    {
     "data": {
      "text/plain": [
       "0"
      ]
     },
     "execution_count": 11,
     "metadata": {},
     "output_type": "execute_result"
    }
   ],
   "source": [
    "int(bool(0))"
   ]
  },
  {
   "cell_type": "code",
   "execution_count": 12,
   "id": "d8fdf66b",
   "metadata": {},
   "outputs": [
    {
     "data": {
      "text/plain": [
       "True"
      ]
     },
     "execution_count": 12,
     "metadata": {},
     "output_type": "execute_result"
    }
   ],
   "source": [
    "not int(bool(0))"
   ]
  },
  {
   "cell_type": "code",
   "execution_count": 13,
   "id": "7282f6a2",
   "metadata": {},
   "outputs": [
    {
     "data": {
      "text/plain": [
       "True"
      ]
     },
     "execution_count": 13,
     "metadata": {},
     "output_type": "execute_result"
    }
   ],
   "source": [
    "bool(1)"
   ]
  },
  {
   "cell_type": "code",
   "execution_count": 14,
   "id": "813ac8f5",
   "metadata": {},
   "outputs": [
    {
     "data": {
      "text/plain": [
       "1"
      ]
     },
     "execution_count": 14,
     "metadata": {},
     "output_type": "execute_result"
    }
   ],
   "source": [
    "int(bool(1))"
   ]
  },
  {
   "cell_type": "code",
   "execution_count": 15,
   "id": "ea017243",
   "metadata": {},
   "outputs": [
    {
     "data": {
      "text/plain": [
       "False"
      ]
     },
     "execution_count": 15,
     "metadata": {},
     "output_type": "execute_result"
    }
   ],
   "source": [
    "not int(bool(1))"
   ]
  },
  {
   "cell_type": "code",
   "execution_count": 16,
   "id": "2327ef17",
   "metadata": {},
   "outputs": [
    {
     "data": {
      "text/plain": [
       "False"
      ]
     },
     "execution_count": 16,
     "metadata": {},
     "output_type": "execute_result"
    }
   ],
   "source": [
    "not 1"
   ]
  },
  {
   "cell_type": "code",
   "execution_count": 17,
   "id": "328c8790",
   "metadata": {},
   "outputs": [
    {
     "data": {
      "text/plain": [
       "True"
      ]
     },
     "execution_count": 17,
     "metadata": {},
     "output_type": "execute_result"
    }
   ],
   "source": [
    "not 0"
   ]
  },
  {
   "cell_type": "code",
   "execution_count": 22,
   "id": "a7b15a27",
   "metadata": {},
   "outputs": [],
   "source": [
    "start = 1\n",
    "stop = 0"
   ]
  },
  {
   "cell_type": "code",
   "execution_count": 19,
   "id": "3c0e6145",
   "metadata": {},
   "outputs": [
    {
     "name": "stdout",
     "output_type": "stream",
     "text": [
      "1\n"
     ]
    }
   ],
   "source": [
    "print(f\"{start}\")"
   ]
  },
  {
   "cell_type": "code",
   "execution_count": 20,
   "id": "c188f872",
   "metadata": {},
   "outputs": [
    {
     "name": "stdout",
     "output_type": "stream",
     "text": [
      "0\n"
     ]
    }
   ],
   "source": [
    "print(f\"{int(not start)}\")"
   ]
  },
  {
   "cell_type": "code",
   "execution_count": 21,
   "id": "9b9c4db3",
   "metadata": {},
   "outputs": [
    {
     "data": {
      "text/plain": [
       "False"
      ]
     },
     "execution_count": 21,
     "metadata": {},
     "output_type": "execute_result"
    }
   ],
   "source": [
    "not start"
   ]
  },
  {
   "cell_type": "code",
   "execution_count": 23,
   "id": "c366edaf",
   "metadata": {},
   "outputs": [
    {
     "name": "stdout",
     "output_type": "stream",
     "text": [
      "1\n"
     ]
    }
   ],
   "source": [
    "print(f\"{int(not stop)}\")"
   ]
  },
  {
   "cell_type": "code",
   "execution_count": 26,
   "id": "e44f34fb",
   "metadata": {},
   "outputs": [],
   "source": [
    "zero = 0\n",
    "one = 1"
   ]
  },
  {
   "cell_type": "code",
   "execution_count": 28,
   "id": "538dbe11",
   "metadata": {},
   "outputs": [
    {
     "name": "stdout",
     "output_type": "stream",
     "text": [
      "True and False\n",
      "\n",
      "#----------------------------------------------#\n"
     ]
    }
   ],
   "source": [
    "print(f\"{not zero} and {not one}\")\n",
    "print(\"\\n#----------------------------------------------#\")"
   ]
  },
  {
   "cell_type": "code",
   "execution_count": 29,
   "id": "9b4fa127",
   "metadata": {},
   "outputs": [],
   "source": [
    "n1 = -5 #it will equated to 0 \n",
    "p1 = 5 #it will equated to 1"
   ]
  },
  {
   "cell_type": "code",
   "execution_count": 30,
   "id": "d47f50a6",
   "metadata": {},
   "outputs": [
    {
     "name": "stdout",
     "output_type": "stream",
     "text": [
      "False and False\n"
     ]
    }
   ],
   "source": [
    "print(f\"{not n1} and {not p1}\")"
   ]
  },
  {
   "cell_type": "code",
   "execution_count": 31,
   "id": "60f4e6cd",
   "metadata": {},
   "outputs": [
    {
     "data": {
      "text/plain": [
       "True"
      ]
     },
     "execution_count": 31,
     "metadata": {},
     "output_type": "execute_result"
    }
   ],
   "source": [
    "not (False) * True"
   ]
  },
  {
   "cell_type": "code",
   "execution_count": 39,
   "id": "f44fa6a2",
   "metadata": {},
   "outputs": [
    {
     "data": {
      "text/plain": [
       "0"
      ]
     },
     "execution_count": 39,
     "metadata": {},
     "output_type": "execute_result"
    }
   ],
   "source": [
    "False * (not(False)) \n",
    "#here the bracket will not be considered -not False"
   ]
  },
  {
   "cell_type": "code",
   "execution_count": 34,
   "id": "6f74d953",
   "metadata": {},
   "outputs": [
    {
     "data": {
      "text/plain": [
       "0"
      ]
     },
     "execution_count": 34,
     "metadata": {},
     "output_type": "execute_result"
    }
   ],
   "source": [
    "False * (not(False)) # Here , precedence is applied based on BODMAS rule"
   ]
  },
  {
   "cell_type": "markdown",
   "id": "c94239e8",
   "metadata": {},
   "source": [
    "# Equality Operations\n",
    "\n",
    "- is  - a is b when and b points to same objects then it returns True\n",
    "- is not - a is not b when and b points to different objects then it returns True\n",
    "- == - a == b when and b points to same value then it returns True\n",
    "- != - a != b when and b points to different value then it returns True"
   ]
  },
  {
   "cell_type": "code",
   "execution_count": 41,
   "id": "63f59b63",
   "metadata": {},
   "outputs": [],
   "source": [
    "l1 = [1,2,3,4]\n",
    "l2 = [1,2,3,4]"
   ]
  },
  {
   "cell_type": "code",
   "execution_count": 42,
   "id": "20a520c4",
   "metadata": {},
   "outputs": [
    {
     "data": {
      "text/plain": [
       "2451024350208"
      ]
     },
     "execution_count": 42,
     "metadata": {},
     "output_type": "execute_result"
    }
   ],
   "source": [
    "id(l1)"
   ]
  },
  {
   "cell_type": "code",
   "execution_count": 43,
   "id": "29210db6",
   "metadata": {},
   "outputs": [
    {
     "data": {
      "text/plain": [
       "2451024368512"
      ]
     },
     "execution_count": 43,
     "metadata": {},
     "output_type": "execute_result"
    }
   ],
   "source": [
    "id(l2)"
   ]
  },
  {
   "cell_type": "code",
   "execution_count": 45,
   "id": "cc753105",
   "metadata": {},
   "outputs": [
    {
     "data": {
      "text/plain": [
       "False"
      ]
     },
     "execution_count": 45,
     "metadata": {},
     "output_type": "execute_result"
    }
   ],
   "source": [
    "l1 is l2 #as they have both different addres .Memory addres"
   ]
  },
  {
   "cell_type": "code",
   "execution_count": 47,
   "id": "1e954c51",
   "metadata": {},
   "outputs": [
    {
     "data": {
      "text/plain": [
       "True"
      ]
     },
     "execution_count": 47,
     "metadata": {},
     "output_type": "execute_result"
    }
   ],
   "source": [
    "l3 is l1"
   ]
  },
  {
   "cell_type": "code",
   "execution_count": 48,
   "id": "2ea15552",
   "metadata": {},
   "outputs": [
    {
     "data": {
      "text/plain": [
       "True"
      ]
     },
     "execution_count": 48,
     "metadata": {},
     "output_type": "execute_result"
    }
   ],
   "source": [
    "l1 is not l2 #it is a collection of elements"
   ]
  },
  {
   "cell_type": "code",
   "execution_count": 49,
   "id": "6ceb7c4c",
   "metadata": {},
   "outputs": [
    {
     "data": {
      "text/plain": [
       "True"
      ]
     },
     "execution_count": 49,
     "metadata": {},
     "output_type": "execute_result"
    }
   ],
   "source": [
    "l1 == l2 #check the values inside the elements"
   ]
  },
  {
   "cell_type": "code",
   "execution_count": 50,
   "id": "9cafa12a",
   "metadata": {},
   "outputs": [],
   "source": [
    "a = 2\n",
    "b = 2"
   ]
  },
  {
   "cell_type": "code",
   "execution_count": 51,
   "id": "f6e89d24",
   "metadata": {},
   "outputs": [
    {
     "name": "stdout",
     "output_type": "stream",
     "text": [
      "2450940782928\n"
     ]
    }
   ],
   "source": [
    "print(id(a))"
   ]
  },
  {
   "cell_type": "code",
   "execution_count": 52,
   "id": "e0cac312",
   "metadata": {},
   "outputs": [
    {
     "name": "stdout",
     "output_type": "stream",
     "text": [
      "2450940782928\n"
     ]
    }
   ],
   "source": [
    "print(id(b)) #here address is same as in string"
   ]
  },
  {
   "cell_type": "code",
   "execution_count": 57,
   "id": "c5491305",
   "metadata": {},
   "outputs": [],
   "source": [
    "st1 = \"sneha\"\n",
    "st2 = \"sneha1\""
   ]
  },
  {
   "cell_type": "code",
   "execution_count": 58,
   "id": "92e764a3",
   "metadata": {},
   "outputs": [
    {
     "data": {
      "text/plain": [
       "2451024396784"
      ]
     },
     "execution_count": 58,
     "metadata": {},
     "output_type": "execute_result"
    }
   ],
   "source": [
    "id(st1)"
   ]
  },
  {
   "cell_type": "code",
   "execution_count": 59,
   "id": "c0b16e07",
   "metadata": {},
   "outputs": [
    {
     "data": {
      "text/plain": [
       "2451024376112"
      ]
     },
     "execution_count": 59,
     "metadata": {},
     "output_type": "execute_result"
    }
   ],
   "source": [
    "id(st2)"
   ]
  },
  {
   "cell_type": "code",
   "execution_count": 55,
   "id": "f84db169",
   "metadata": {},
   "outputs": [
    {
     "ename": "TypeError",
     "evalue": "'str' object does not support item assignment",
     "output_type": "error",
     "traceback": [
      "\u001b[1;31m---------------------------------------------------------------------------\u001b[0m",
      "\u001b[1;31mTypeError\u001b[0m                                 Traceback (most recent call last)",
      "\u001b[1;32m~\\AppData\\Local\\Temp\\ipykernel_15668\\897047870.py\u001b[0m in \u001b[0;36m<module>\u001b[1;34m\u001b[0m\n\u001b[1;32m----> 1\u001b[1;33m \u001b[0mst1\u001b[0m\u001b[1;33m[\u001b[0m\u001b[1;36m0\u001b[0m\u001b[1;33m]\u001b[0m\u001b[1;33m=\u001b[0m\u001b[1;34m\"N\"\u001b[0m \u001b[1;31m#because string is immutable\u001b[0m\u001b[1;33m\u001b[0m\u001b[1;33m\u001b[0m\u001b[0m\n\u001b[0m",
      "\u001b[1;31mTypeError\u001b[0m: 'str' object does not support item assignment"
     ]
    }
   ],
   "source": [
    "st1[0]=\"N\" #because string is immutable"
   ]
  },
  {
   "cell_type": "code",
   "execution_count": 56,
   "id": "f0406f51",
   "metadata": {},
   "outputs": [],
   "source": [
    "#List are mutable"
   ]
  },
  {
   "cell_type": "markdown",
   "id": "e39d1274",
   "metadata": {},
   "source": [
    " # Comparison Operators\n",
    " \n",
    " - less than <\n",
    " - greater than >\n",
    " - greater than and equal to >=\n",
    " - less than and equal to <="
   ]
  },
  {
   "cell_type": "code",
   "execution_count": 60,
   "id": "f0e40a71",
   "metadata": {},
   "outputs": [
    {
     "name": "stdout",
     "output_type": "stream",
     "text": [
      "False\n"
     ]
    }
   ],
   "source": [
    "c1 = 100\n",
    "c2 = 200\n",
    "\n",
    "print(f\"{c1 > c2}\")"
   ]
  },
  {
   "cell_type": "code",
   "execution_count": 61,
   "id": "e20a69b9",
   "metadata": {},
   "outputs": [
    {
     "name": "stdout",
     "output_type": "stream",
     "text": [
      "True\n"
     ]
    }
   ],
   "source": [
    "print(f\"{c1 <= c2}\")"
   ]
  },
  {
   "cell_type": "markdown",
   "id": "d9639afd",
   "metadata": {},
   "source": [
    "# Arithematics Operators\n",
    "\n",
    "- +\n",
    "- - \n",
    "- *\n",
    "- / - true division\n",
    "- // - integer division\n",
    "- % - modulo operator"
   ]
  },
  {
   "cell_type": "code",
   "execution_count": 62,
   "id": "dc811f4a",
   "metadata": {},
   "outputs": [],
   "source": [
    "a = 10\n",
    "b = 2"
   ]
  },
  {
   "cell_type": "code",
   "execution_count": 63,
   "id": "282961ac",
   "metadata": {},
   "outputs": [
    {
     "data": {
      "text/plain": [
       "5.0"
      ]
     },
     "execution_count": 63,
     "metadata": {},
     "output_type": "execute_result"
    }
   ],
   "source": [
    "a/b"
   ]
  },
  {
   "cell_type": "code",
   "execution_count": 65,
   "id": "5ddc1254",
   "metadata": {},
   "outputs": [
    {
     "data": {
      "text/plain": [
       "5"
      ]
     },
     "execution_count": 65,
     "metadata": {},
     "output_type": "execute_result"
    }
   ],
   "source": [
    "a//b"
   ]
  },
  {
   "cell_type": "code",
   "execution_count": 67,
   "id": "6cbd6401",
   "metadata": {},
   "outputs": [
    {
     "data": {
      "text/plain": [
       "2"
      ]
     },
     "execution_count": 67,
     "metadata": {},
     "output_type": "execute_result"
    }
   ],
   "source": [
    "b % a #helps to find remainder"
   ]
  },
  {
   "cell_type": "markdown",
   "id": "ff2a4e3b",
   "metadata": {},
   "source": [
    "# Bitwise Operators\n",
    "\n",
    "- ~\n",
    "- &\n",
    "- |\n",
    "- ^\n",
    "- <<\n",
    "- **>>**"
   ]
  },
  {
   "cell_type": "code",
   "execution_count": 68,
   "id": "7769ff33",
   "metadata": {},
   "outputs": [
    {
     "data": {
      "text/plain": [
       "'0b1010'"
      ]
     },
     "execution_count": 68,
     "metadata": {},
     "output_type": "execute_result"
    }
   ],
   "source": [
    "var = 10\n",
    "bin(var)"
   ]
  },
  {
   "cell_type": "code",
   "execution_count": 69,
   "id": "e3fdee04",
   "metadata": {},
   "outputs": [
    {
     "data": {
      "text/plain": [
       "-11"
      ]
     },
     "execution_count": 69,
     "metadata": {},
     "output_type": "execute_result"
    }
   ],
   "source": [
    "~var"
   ]
  },
  {
   "cell_type": "code",
   "execution_count": 70,
   "id": "17aa5fa7",
   "metadata": {},
   "outputs": [
    {
     "data": {
      "text/plain": [
       "True"
      ]
     },
     "execution_count": 70,
     "metadata": {},
     "output_type": "execute_result"
    }
   ],
   "source": [
    "True | False"
   ]
  },
  {
   "cell_type": "code",
   "execution_count": 71,
   "id": "c97ad48d",
   "metadata": {},
   "outputs": [
    {
     "data": {
      "text/plain": [
       "5"
      ]
     },
     "execution_count": 71,
     "metadata": {},
     "output_type": "execute_result"
    }
   ],
   "source": [
    "var >> 1"
   ]
  },
  {
   "cell_type": "markdown",
   "id": "d1d02608",
   "metadata": {},
   "source": [
    "# Strings"
   ]
  },
  {
   "cell_type": "code",
   "execution_count": 72,
   "id": "9c2aaca0",
   "metadata": {},
   "outputs": [
    {
     "data": {
      "text/plain": [
       "'Welcome to New york'"
      ]
     },
     "execution_count": 72,
     "metadata": {},
     "output_type": "execute_result"
    }
   ],
   "source": [
    "\"Welcome to New york\""
   ]
  },
  {
   "cell_type": "code",
   "execution_count": 73,
   "id": "f89aa52c",
   "metadata": {},
   "outputs": [],
   "source": [
    "str1 = \"Welcome to New york\""
   ]
  },
  {
   "cell_type": "code",
   "execution_count": 74,
   "id": "061b3491",
   "metadata": {},
   "outputs": [
    {
     "data": {
      "text/plain": [
       "str"
      ]
     },
     "execution_count": 74,
     "metadata": {},
     "output_type": "execute_result"
    }
   ],
   "source": [
    "type(str1)"
   ]
  },
  {
   "cell_type": "code",
   "execution_count": 75,
   "id": "05c1e4de",
   "metadata": {},
   "outputs": [
    {
     "ename": "TypeError",
     "evalue": "'str' object does not support item assignment",
     "output_type": "error",
     "traceback": [
      "\u001b[1;31m---------------------------------------------------------------------------\u001b[0m",
      "\u001b[1;31mTypeError\u001b[0m                                 Traceback (most recent call last)",
      "\u001b[1;32m~\\AppData\\Local\\Temp\\ipykernel_15668\\2333495699.py\u001b[0m in \u001b[0;36m<module>\u001b[1;34m\u001b[0m\n\u001b[1;32m----> 1\u001b[1;33m \u001b[0mstr1\u001b[0m\u001b[1;33m[\u001b[0m\u001b[1;36m0\u001b[0m\u001b[1;33m]\u001b[0m \u001b[1;33m=\u001b[0m \u001b[1;36m12\u001b[0m \u001b[1;31m#immutable\u001b[0m\u001b[1;33m\u001b[0m\u001b[1;33m\u001b[0m\u001b[0m\n\u001b[0m",
      "\u001b[1;31mTypeError\u001b[0m: 'str' object does not support item assignment"
     ]
    }
   ],
   "source": [
    "str1[0] = 12 #immutable"
   ]
  },
  {
   "cell_type": "code",
   "execution_count": 81,
   "id": "6a6150b3",
   "metadata": {},
   "outputs": [],
   "source": [
    "str1 = \"data science course\""
   ]
  },
  {
   "cell_type": "code",
   "execution_count": 82,
   "id": "8e4c6185",
   "metadata": {},
   "outputs": [
    {
     "data": {
      "text/plain": [
       "'Data science course'"
      ]
     },
     "execution_count": 82,
     "metadata": {},
     "output_type": "execute_result"
    }
   ],
   "source": [
    "str1.capitalize()"
   ]
  },
  {
   "cell_type": "code",
   "execution_count": 85,
   "id": "c32b4e5a",
   "metadata": {},
   "outputs": [
    {
     "data": {
      "text/plain": [
       "'science course'"
      ]
     },
     "execution_count": 85,
     "metadata": {},
     "output_type": "execute_result"
    }
   ],
   "source": [
    "str1[5:] #slicing "
   ]
  },
  {
   "cell_type": "code",
   "execution_count": 86,
   "id": "b37c9d15",
   "metadata": {},
   "outputs": [
    {
     "data": {
      "text/plain": [
       "'s'"
      ]
     },
     "execution_count": 86,
     "metadata": {},
     "output_type": "execute_result"
    }
   ],
   "source": [
    "str1[5] #indexing"
   ]
  },
  {
   "cell_type": "code",
   "execution_count": 87,
   "id": "62f40ee2",
   "metadata": {},
   "outputs": [
    {
     "data": {
      "text/plain": [
       "'e'"
      ]
     },
     "execution_count": 87,
     "metadata": {},
     "output_type": "execute_result"
    }
   ],
   "source": [
    "str1[-1]"
   ]
  },
  {
   "cell_type": "code",
   "execution_count": 88,
   "id": "1b6aa330",
   "metadata": {},
   "outputs": [
    {
     "data": {
      "text/plain": [
       "'e'"
      ]
     },
     "execution_count": 88,
     "metadata": {},
     "output_type": "execute_result"
    }
   ],
   "source": [
    "str1[-1:]"
   ]
  },
  {
   "cell_type": "code",
   "execution_count": 89,
   "id": "e6f25002",
   "metadata": {},
   "outputs": [
    {
     "data": {
      "text/plain": [
       "'rse'"
      ]
     },
     "execution_count": 89,
     "metadata": {},
     "output_type": "execute_result"
    }
   ],
   "source": [
    "str1[-3:]"
   ]
  },
  {
   "cell_type": "code",
   "execution_count": 90,
   "id": "842e061a",
   "metadata": {},
   "outputs": [
    {
     "data": {
      "text/plain": [
       "' cou'"
      ]
     },
     "execution_count": 90,
     "metadata": {},
     "output_type": "execute_result"
    }
   ],
   "source": [
    "str1[-7:-3]"
   ]
  },
  {
   "cell_type": "code",
   "execution_count": 91,
   "id": "704a9a55",
   "metadata": {},
   "outputs": [
    {
     "data": {
      "text/plain": [
       "''"
      ]
     },
     "execution_count": 91,
     "metadata": {},
     "output_type": "execute_result"
    }
   ],
   "source": [
    "str1[-7:3]"
   ]
  },
  {
   "cell_type": "code",
   "execution_count": 92,
   "id": "3a1083ef",
   "metadata": {},
   "outputs": [
    {
     "data": {
      "text/plain": [
       "''"
      ]
     },
     "execution_count": 92,
     "metadata": {},
     "output_type": "execute_result"
    }
   ],
   "source": [
    "str1[7:3]"
   ]
  },
  {
   "cell_type": "code",
   "execution_count": 93,
   "id": "d384e8d2",
   "metadata": {},
   "outputs": [
    {
     "data": {
      "text/plain": [
       "'n'"
      ]
     },
     "execution_count": 93,
     "metadata": {},
     "output_type": "execute_result"
    }
   ],
   "source": [
    "str1[-10:10]"
   ]
  },
  {
   "cell_type": "code",
   "execution_count": 94,
   "id": "e9d4a04b",
   "metadata": {},
   "outputs": [
    {
     "data": {
      "text/plain": [
       "'data science course'"
      ]
     },
     "execution_count": 94,
     "metadata": {},
     "output_type": "execute_result"
    }
   ],
   "source": [
    "str1[:\n",
    "    ]"
   ]
  },
  {
   "cell_type": "code",
   "execution_count": 95,
   "id": "1ba787c5",
   "metadata": {},
   "outputs": [
    {
     "data": {
      "text/plain": [
       "'data science cours'"
      ]
     },
     "execution_count": 95,
     "metadata": {},
     "output_type": "execute_result"
    }
   ],
   "source": [
    "str1[:-1]"
   ]
  },
  {
   "cell_type": "code",
   "execution_count": 97,
   "id": "f0a7cc6e",
   "metadata": {},
   "outputs": [
    {
     "data": {
      "text/plain": [
       "'esruoc ecneics atad'"
      ]
     },
     "execution_count": 97,
     "metadata": {},
     "output_type": "execute_result"
    }
   ],
   "source": [
    "str1[::-1] #after second column step size is defined"
   ]
  },
  {
   "cell_type": "code",
   "execution_count": 99,
   "id": "1b92448f",
   "metadata": {},
   "outputs": [
    {
     "data": {
      "text/plain": [
       "'ero cec td'"
      ]
     },
     "execution_count": 99,
     "metadata": {},
     "output_type": "execute_result"
    }
   ],
   "source": [
    "str1[::-2] #every second element is displayed"
   ]
  },
  {
   "cell_type": "code",
   "execution_count": 100,
   "id": "042e0972",
   "metadata": {},
   "outputs": [
    {
     "data": {
      "text/plain": [
       "'eu ncad'"
      ]
     },
     "execution_count": 100,
     "metadata": {},
     "output_type": "execute_result"
    }
   ],
   "source": [
    "str1[::-3]"
   ]
  },
  {
   "cell_type": "code",
   "execution_count": 101,
   "id": "5d863056",
   "metadata": {},
   "outputs": [
    {
     "data": {
      "text/plain": [
       "'data science course'"
      ]
     },
     "execution_count": 101,
     "metadata": {},
     "output_type": "execute_result"
    }
   ],
   "source": [
    "str1[::1]"
   ]
  },
  {
   "cell_type": "code",
   "execution_count": 102,
   "id": "4bc08278",
   "metadata": {},
   "outputs": [
    {
     "data": {
      "text/plain": [
       "'d e r'"
      ]
     },
     "execution_count": 102,
     "metadata": {},
     "output_type": "execute_result"
    }
   ],
   "source": [
    "str1[::4]"
   ]
  },
  {
   "cell_type": "code",
   "execution_count": 104,
   "id": "fda7ce9a",
   "metadata": {},
   "outputs": [],
   "source": [
    "str2 = \"Sneha\""
   ]
  },
  {
   "cell_type": "code",
   "execution_count": 108,
   "id": "3d9cf4dc",
   "metadata": {},
   "outputs": [
    {
     "data": {
      "text/plain": [
       "'he'"
      ]
     },
     "execution_count": 108,
     "metadata": {},
     "output_type": "execute_result"
    }
   ],
   "source": [
    "str2[3:1:-1]"
   ]
  },
  {
   "cell_type": "code",
   "execution_count": 109,
   "id": "40e3cfb1",
   "metadata": {},
   "outputs": [],
   "source": [
    "name = \"Data Science masters\""
   ]
  },
  {
   "cell_type": "code",
   "execution_count": 111,
   "id": "f14ae01c",
   "metadata": {},
   "outputs": [
    {
     "data": {
      "text/plain": [
       "'Science '"
      ]
     },
     "execution_count": 111,
     "metadata": {},
     "output_type": "execute_result"
    }
   ],
   "source": [
    "name[5:13]"
   ]
  },
  {
   "cell_type": "code",
   "execution_count": 114,
   "id": "1354347f",
   "metadata": {},
   "outputs": [
    {
     "data": {
      "text/plain": [
       "' ecneicS'"
      ]
     },
     "execution_count": 114,
     "metadata": {},
     "output_type": "execute_result"
    }
   ],
   "source": [
    "name[12:4:-1]"
   ]
  },
  {
   "cell_type": "code",
   "execution_count": 116,
   "id": "44e8e7dd",
   "metadata": {},
   "outputs": [
    {
     "data": {
      "text/plain": [
       "'Data Science masterscourse'"
      ]
     },
     "execution_count": 116,
     "metadata": {},
     "output_type": "execute_result"
    }
   ],
   "source": [
    "name + \"course\" #concatenation operation"
   ]
  },
  {
   "cell_type": "code",
   "execution_count": 117,
   "id": "58e24274",
   "metadata": {},
   "outputs": [
    {
     "data": {
      "text/plain": [
       "'Data Science mastersData Science mastersData Science mastersData Science mastersData Science masters'"
      ]
     },
     "execution_count": 117,
     "metadata": {},
     "output_type": "execute_result"
    }
   ],
   "source": [
    "name * 5"
   ]
  },
  {
   "cell_type": "code",
   "execution_count": 119,
   "id": "f447e48b",
   "metadata": {},
   "outputs": [
    {
     "data": {
      "text/plain": [
       "20"
      ]
     },
     "execution_count": 119,
     "metadata": {},
     "output_type": "execute_result"
    }
   ],
   "source": [
    "len(name) #also calculate spaces"
   ]
  },
  {
   "cell_type": "code",
   "execution_count": 120,
   "id": "49faceed",
   "metadata": {},
   "outputs": [
    {
     "data": {
      "text/plain": [
       "9"
      ]
     },
     "execution_count": 120,
     "metadata": {},
     "output_type": "execute_result"
    }
   ],
   "source": [
    "name.find(\"n\")"
   ]
  },
  {
   "cell_type": "code",
   "execution_count": 122,
   "id": "f1885714",
   "metadata": {},
   "outputs": [
    {
     "data": {
      "text/plain": [
       "3"
      ]
     },
     "execution_count": 122,
     "metadata": {},
     "output_type": "execute_result"
    }
   ],
   "source": [
    "name.find(\"a\",2,10) #return the index value of first element found in string"
   ]
  },
  {
   "cell_type": "code",
   "execution_count": 123,
   "id": "98753b39",
   "metadata": {},
   "outputs": [
    {
     "data": {
      "text/plain": [
       "-1"
      ]
     },
     "execution_count": 123,
     "metadata": {},
     "output_type": "execute_result"
    }
   ],
   "source": [
    "name.find(\"z\",2,10)"
   ]
  },
  {
   "cell_type": "code",
   "execution_count": 125,
   "id": "3c12669b",
   "metadata": {},
   "outputs": [
    {
     "data": {
      "text/plain": [
       "3"
      ]
     },
     "execution_count": 125,
     "metadata": {},
     "output_type": "execute_result"
    }
   ],
   "source": [
    "name.count('a') #return the count of element which is mentioned"
   ]
  },
  {
   "cell_type": "code",
   "execution_count": 127,
   "id": "3b4096a4",
   "metadata": {},
   "outputs": [
    {
     "data": {
      "text/plain": [
       "21"
      ]
     },
     "execution_count": 127,
     "metadata": {},
     "output_type": "execute_result"
    }
   ],
   "source": [
    "name.count(\"\")"
   ]
  },
  {
   "cell_type": "code",
   "execution_count": 129,
   "id": "7de00ff6",
   "metadata": {},
   "outputs": [],
   "source": [
    "#string split function"
   ]
  },
  {
   "cell_type": "code",
   "execution_count": 131,
   "id": "35056d57",
   "metadata": {},
   "outputs": [
    {
     "data": {
      "text/plain": [
       "['Data', 'Science', 'masters']"
      ]
     },
     "execution_count": 131,
     "metadata": {},
     "output_type": "execute_result"
    }
   ],
   "source": [
    "name.split(\" \")"
   ]
  },
  {
   "cell_type": "code",
   "execution_count": 132,
   "id": "03c40b68",
   "metadata": {},
   "outputs": [
    {
     "data": {
      "text/plain": [
       "['Data ', 'cience masters']"
      ]
     },
     "execution_count": 132,
     "metadata": {},
     "output_type": "execute_result"
    }
   ],
   "source": [
    "name.split(\"S\") #s is skipped and rest values are returned"
   ]
  },
  {
   "cell_type": "code",
   "execution_count": 135,
   "id": "797a5d09",
   "metadata": {},
   "outputs": [
    {
     "data": {
      "text/plain": [
       "('Data ', 'S', 'cience masters')"
      ]
     },
     "execution_count": 135,
     "metadata": {},
     "output_type": "execute_result"
    }
   ],
   "source": [
    "name.partition(\"S\") #S - kept and then divided the string- first value its sees"
   ]
  },
  {
   "cell_type": "code",
   "execution_count": 136,
   "id": "ad8482c8",
   "metadata": {},
   "outputs": [
    {
     "data": {
      "text/plain": [
       "False"
      ]
     },
     "execution_count": 136,
     "metadata": {},
     "output_type": "execute_result"
    }
   ],
   "source": [
    "name.isupper()"
   ]
  },
  {
   "cell_type": "code",
   "execution_count": 137,
   "id": "7f6ee904",
   "metadata": {},
   "outputs": [
    {
     "data": {
      "text/plain": [
       "'DATA SCIENCE MASTERS'"
      ]
     },
     "execution_count": 137,
     "metadata": {},
     "output_type": "execute_result"
    }
   ],
   "source": [
    "name.upper()"
   ]
  },
  {
   "cell_type": "code",
   "execution_count": 138,
   "id": "32f3900e",
   "metadata": {},
   "outputs": [
    {
     "data": {
      "text/plain": [
       "False"
      ]
     },
     "execution_count": 138,
     "metadata": {},
     "output_type": "execute_result"
    }
   ],
   "source": [
    "name.islower()"
   ]
  },
  {
   "cell_type": "code",
   "execution_count": 139,
   "id": "9a797814",
   "metadata": {},
   "outputs": [
    {
     "data": {
      "text/plain": [
       "'data science masters'"
      ]
     },
     "execution_count": 139,
     "metadata": {},
     "output_type": "execute_result"
    }
   ],
   "source": [
    "name.lower()"
   ]
  },
  {
   "cell_type": "code",
   "execution_count": 141,
   "id": "e6d45800",
   "metadata": {},
   "outputs": [
    {
     "data": {
      "text/plain": [
       "'dATA sCIENCE MASTERS'"
      ]
     },
     "execution_count": 141,
     "metadata": {},
     "output_type": "execute_result"
    }
   ],
   "source": [
    "name.swapcase()"
   ]
  },
  {
   "cell_type": "code",
   "execution_count": null,
   "id": "424c2f9c",
   "metadata": {},
   "outputs": [],
   "source": []
  },
  {
   "cell_type": "code",
   "execution_count": null,
   "id": "766de800",
   "metadata": {},
   "outputs": [],
   "source": []
  },
  {
   "cell_type": "code",
   "execution_count": null,
   "id": "4d869e47",
   "metadata": {},
   "outputs": [],
   "source": []
  },
  {
   "cell_type": "code",
   "execution_count": null,
   "id": "c2648c21",
   "metadata": {},
   "outputs": [],
   "source": []
  },
  {
   "cell_type": "code",
   "execution_count": null,
   "id": "ab7e640f",
   "metadata": {},
   "outputs": [],
   "source": []
  },
  {
   "cell_type": "code",
   "execution_count": null,
   "id": "7a3048e2",
   "metadata": {},
   "outputs": [],
   "source": []
  },
  {
   "cell_type": "code",
   "execution_count": null,
   "id": "7309db12",
   "metadata": {},
   "outputs": [],
   "source": []
  },
  {
   "cell_type": "code",
   "execution_count": null,
   "id": "1747b1d9",
   "metadata": {},
   "outputs": [],
   "source": []
  },
  {
   "cell_type": "code",
   "execution_count": null,
   "id": "7de6ecf8",
   "metadata": {},
   "outputs": [],
   "source": []
  },
  {
   "cell_type": "code",
   "execution_count": null,
   "id": "98d564c0",
   "metadata": {},
   "outputs": [],
   "source": []
  },
  {
   "cell_type": "code",
   "execution_count": null,
   "id": "6f2475cb",
   "metadata": {},
   "outputs": [],
   "source": []
  },
  {
   "cell_type": "code",
   "execution_count": null,
   "id": "0c6392f3",
   "metadata": {},
   "outputs": [],
   "source": []
  }
 ],
 "metadata": {
  "kernelspec": {
   "display_name": "Python 3 (ipykernel)",
   "language": "python",
   "name": "python3"
  },
  "language_info": {
   "codemirror_mode": {
    "name": "ipython",
    "version": 3
   },
   "file_extension": ".py",
   "mimetype": "text/x-python",
   "name": "python",
   "nbconvert_exporter": "python",
   "pygments_lexer": "ipython3",
   "version": "3.9.13"
  }
 },
 "nbformat": 4,
 "nbformat_minor": 5
}
